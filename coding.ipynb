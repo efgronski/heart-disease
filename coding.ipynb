{
 "cells": [
  {
   "attachments": {},
   "cell_type": "markdown",
   "metadata": {},
   "source": [
    "# CSE 163\n",
    "## Final Project\n",
    "## Statistical Analysis on Heart Disease Data"
   ]
  },
  {
   "attachments": {},
   "cell_type": "markdown",
   "metadata": {},
   "source": [
    "Importing basic libraries for analysis:"
   ]
  },
  {
   "cell_type": "code",
   "execution_count": 1,
   "metadata": {},
   "outputs": [],
   "source": [
    "import pandas as pd\n",
    "import numpy as np\n",
    "import statsmodels.formula.api as smf\n",
    "import matplotlib.pyplot as plt"
   ]
  },
  {
   "attachments": {},
   "cell_type": "markdown",
   "metadata": {},
   "source": [
    "Import dataset, and view data:"
   ]
  },
  {
   "cell_type": "code",
   "execution_count": 2,
   "metadata": {},
   "outputs": [
    {
     "data": {
      "text/html": [
       "<div>\n",
       "<style scoped>\n",
       "    .dataframe tbody tr th:only-of-type {\n",
       "        vertical-align: middle;\n",
       "    }\n",
       "\n",
       "    .dataframe tbody tr th {\n",
       "        vertical-align: top;\n",
       "    }\n",
       "\n",
       "    .dataframe thead th {\n",
       "        text-align: right;\n",
       "    }\n",
       "</style>\n",
       "<table border=\"1\" class=\"dataframe\">\n",
       "  <thead>\n",
       "    <tr style=\"text-align: right;\">\n",
       "      <th></th>\n",
       "      <th>id</th>\n",
       "      <th>age</th>\n",
       "      <th>sex</th>\n",
       "      <th>dataset</th>\n",
       "      <th>cp</th>\n",
       "      <th>trestbps</th>\n",
       "      <th>chol</th>\n",
       "      <th>fbs</th>\n",
       "      <th>restecg</th>\n",
       "      <th>thalch</th>\n",
       "      <th>exang</th>\n",
       "      <th>oldpeak</th>\n",
       "      <th>slope</th>\n",
       "      <th>ca</th>\n",
       "      <th>thal</th>\n",
       "      <th>num</th>\n",
       "    </tr>\n",
       "  </thead>\n",
       "  <tbody>\n",
       "    <tr>\n",
       "      <th>0</th>\n",
       "      <td>1</td>\n",
       "      <td>63</td>\n",
       "      <td>Male</td>\n",
       "      <td>Cleveland</td>\n",
       "      <td>typical angina</td>\n",
       "      <td>145.0</td>\n",
       "      <td>233.0</td>\n",
       "      <td>True</td>\n",
       "      <td>lv hypertrophy</td>\n",
       "      <td>150.0</td>\n",
       "      <td>False</td>\n",
       "      <td>2.3</td>\n",
       "      <td>downsloping</td>\n",
       "      <td>0.0</td>\n",
       "      <td>fixed defect</td>\n",
       "      <td>0</td>\n",
       "    </tr>\n",
       "    <tr>\n",
       "      <th>1</th>\n",
       "      <td>2</td>\n",
       "      <td>67</td>\n",
       "      <td>Male</td>\n",
       "      <td>Cleveland</td>\n",
       "      <td>asymptomatic</td>\n",
       "      <td>160.0</td>\n",
       "      <td>286.0</td>\n",
       "      <td>False</td>\n",
       "      <td>lv hypertrophy</td>\n",
       "      <td>108.0</td>\n",
       "      <td>True</td>\n",
       "      <td>1.5</td>\n",
       "      <td>flat</td>\n",
       "      <td>3.0</td>\n",
       "      <td>normal</td>\n",
       "      <td>2</td>\n",
       "    </tr>\n",
       "    <tr>\n",
       "      <th>2</th>\n",
       "      <td>3</td>\n",
       "      <td>67</td>\n",
       "      <td>Male</td>\n",
       "      <td>Cleveland</td>\n",
       "      <td>asymptomatic</td>\n",
       "      <td>120.0</td>\n",
       "      <td>229.0</td>\n",
       "      <td>False</td>\n",
       "      <td>lv hypertrophy</td>\n",
       "      <td>129.0</td>\n",
       "      <td>True</td>\n",
       "      <td>2.6</td>\n",
       "      <td>flat</td>\n",
       "      <td>2.0</td>\n",
       "      <td>reversable defect</td>\n",
       "      <td>1</td>\n",
       "    </tr>\n",
       "    <tr>\n",
       "      <th>3</th>\n",
       "      <td>4</td>\n",
       "      <td>37</td>\n",
       "      <td>Male</td>\n",
       "      <td>Cleveland</td>\n",
       "      <td>non-anginal</td>\n",
       "      <td>130.0</td>\n",
       "      <td>250.0</td>\n",
       "      <td>False</td>\n",
       "      <td>normal</td>\n",
       "      <td>187.0</td>\n",
       "      <td>False</td>\n",
       "      <td>3.5</td>\n",
       "      <td>downsloping</td>\n",
       "      <td>0.0</td>\n",
       "      <td>normal</td>\n",
       "      <td>0</td>\n",
       "    </tr>\n",
       "    <tr>\n",
       "      <th>4</th>\n",
       "      <td>5</td>\n",
       "      <td>41</td>\n",
       "      <td>Female</td>\n",
       "      <td>Cleveland</td>\n",
       "      <td>atypical angina</td>\n",
       "      <td>130.0</td>\n",
       "      <td>204.0</td>\n",
       "      <td>False</td>\n",
       "      <td>lv hypertrophy</td>\n",
       "      <td>172.0</td>\n",
       "      <td>False</td>\n",
       "      <td>1.4</td>\n",
       "      <td>upsloping</td>\n",
       "      <td>0.0</td>\n",
       "      <td>normal</td>\n",
       "      <td>0</td>\n",
       "    </tr>\n",
       "    <tr>\n",
       "      <th>...</th>\n",
       "      <td>...</td>\n",
       "      <td>...</td>\n",
       "      <td>...</td>\n",
       "      <td>...</td>\n",
       "      <td>...</td>\n",
       "      <td>...</td>\n",
       "      <td>...</td>\n",
       "      <td>...</td>\n",
       "      <td>...</td>\n",
       "      <td>...</td>\n",
       "      <td>...</td>\n",
       "      <td>...</td>\n",
       "      <td>...</td>\n",
       "      <td>...</td>\n",
       "      <td>...</td>\n",
       "      <td>...</td>\n",
       "    </tr>\n",
       "    <tr>\n",
       "      <th>915</th>\n",
       "      <td>916</td>\n",
       "      <td>54</td>\n",
       "      <td>Female</td>\n",
       "      <td>VA Long Beach</td>\n",
       "      <td>asymptomatic</td>\n",
       "      <td>127.0</td>\n",
       "      <td>333.0</td>\n",
       "      <td>True</td>\n",
       "      <td>st-t abnormality</td>\n",
       "      <td>154.0</td>\n",
       "      <td>False</td>\n",
       "      <td>0.0</td>\n",
       "      <td>NaN</td>\n",
       "      <td>NaN</td>\n",
       "      <td>NaN</td>\n",
       "      <td>1</td>\n",
       "    </tr>\n",
       "    <tr>\n",
       "      <th>916</th>\n",
       "      <td>917</td>\n",
       "      <td>62</td>\n",
       "      <td>Male</td>\n",
       "      <td>VA Long Beach</td>\n",
       "      <td>typical angina</td>\n",
       "      <td>NaN</td>\n",
       "      <td>139.0</td>\n",
       "      <td>False</td>\n",
       "      <td>st-t abnormality</td>\n",
       "      <td>NaN</td>\n",
       "      <td>NaN</td>\n",
       "      <td>NaN</td>\n",
       "      <td>NaN</td>\n",
       "      <td>NaN</td>\n",
       "      <td>NaN</td>\n",
       "      <td>0</td>\n",
       "    </tr>\n",
       "    <tr>\n",
       "      <th>917</th>\n",
       "      <td>918</td>\n",
       "      <td>55</td>\n",
       "      <td>Male</td>\n",
       "      <td>VA Long Beach</td>\n",
       "      <td>asymptomatic</td>\n",
       "      <td>122.0</td>\n",
       "      <td>223.0</td>\n",
       "      <td>True</td>\n",
       "      <td>st-t abnormality</td>\n",
       "      <td>100.0</td>\n",
       "      <td>False</td>\n",
       "      <td>0.0</td>\n",
       "      <td>NaN</td>\n",
       "      <td>NaN</td>\n",
       "      <td>fixed defect</td>\n",
       "      <td>2</td>\n",
       "    </tr>\n",
       "    <tr>\n",
       "      <th>918</th>\n",
       "      <td>919</td>\n",
       "      <td>58</td>\n",
       "      <td>Male</td>\n",
       "      <td>VA Long Beach</td>\n",
       "      <td>asymptomatic</td>\n",
       "      <td>NaN</td>\n",
       "      <td>385.0</td>\n",
       "      <td>True</td>\n",
       "      <td>lv hypertrophy</td>\n",
       "      <td>NaN</td>\n",
       "      <td>NaN</td>\n",
       "      <td>NaN</td>\n",
       "      <td>NaN</td>\n",
       "      <td>NaN</td>\n",
       "      <td>NaN</td>\n",
       "      <td>0</td>\n",
       "    </tr>\n",
       "    <tr>\n",
       "      <th>919</th>\n",
       "      <td>920</td>\n",
       "      <td>62</td>\n",
       "      <td>Male</td>\n",
       "      <td>VA Long Beach</td>\n",
       "      <td>atypical angina</td>\n",
       "      <td>120.0</td>\n",
       "      <td>254.0</td>\n",
       "      <td>False</td>\n",
       "      <td>lv hypertrophy</td>\n",
       "      <td>93.0</td>\n",
       "      <td>True</td>\n",
       "      <td>0.0</td>\n",
       "      <td>NaN</td>\n",
       "      <td>NaN</td>\n",
       "      <td>NaN</td>\n",
       "      <td>1</td>\n",
       "    </tr>\n",
       "  </tbody>\n",
       "</table>\n",
       "<p>920 rows × 16 columns</p>\n",
       "</div>"
      ],
      "text/plain": [
       "      id  age     sex        dataset               cp  trestbps   chol    fbs  \\\n",
       "0      1   63    Male      Cleveland   typical angina     145.0  233.0   True   \n",
       "1      2   67    Male      Cleveland     asymptomatic     160.0  286.0  False   \n",
       "2      3   67    Male      Cleveland     asymptomatic     120.0  229.0  False   \n",
       "3      4   37    Male      Cleveland      non-anginal     130.0  250.0  False   \n",
       "4      5   41  Female      Cleveland  atypical angina     130.0  204.0  False   \n",
       "..   ...  ...     ...            ...              ...       ...    ...    ...   \n",
       "915  916   54  Female  VA Long Beach     asymptomatic     127.0  333.0   True   \n",
       "916  917   62    Male  VA Long Beach   typical angina       NaN  139.0  False   \n",
       "917  918   55    Male  VA Long Beach     asymptomatic     122.0  223.0   True   \n",
       "918  919   58    Male  VA Long Beach     asymptomatic       NaN  385.0   True   \n",
       "919  920   62    Male  VA Long Beach  atypical angina     120.0  254.0  False   \n",
       "\n",
       "              restecg  thalch  exang  oldpeak        slope   ca  \\\n",
       "0      lv hypertrophy   150.0  False      2.3  downsloping  0.0   \n",
       "1      lv hypertrophy   108.0   True      1.5         flat  3.0   \n",
       "2      lv hypertrophy   129.0   True      2.6         flat  2.0   \n",
       "3              normal   187.0  False      3.5  downsloping  0.0   \n",
       "4      lv hypertrophy   172.0  False      1.4    upsloping  0.0   \n",
       "..                ...     ...    ...      ...          ...  ...   \n",
       "915  st-t abnormality   154.0  False      0.0          NaN  NaN   \n",
       "916  st-t abnormality     NaN    NaN      NaN          NaN  NaN   \n",
       "917  st-t abnormality   100.0  False      0.0          NaN  NaN   \n",
       "918    lv hypertrophy     NaN    NaN      NaN          NaN  NaN   \n",
       "919    lv hypertrophy    93.0   True      0.0          NaN  NaN   \n",
       "\n",
       "                  thal  num  \n",
       "0         fixed defect    0  \n",
       "1               normal    2  \n",
       "2    reversable defect    1  \n",
       "3               normal    0  \n",
       "4               normal    0  \n",
       "..                 ...  ...  \n",
       "915                NaN    1  \n",
       "916                NaN    0  \n",
       "917       fixed defect    2  \n",
       "918                NaN    0  \n",
       "919                NaN    1  \n",
       "\n",
       "[920 rows x 16 columns]"
      ]
     },
     "execution_count": 2,
     "metadata": {},
     "output_type": "execute_result"
    }
   ],
   "source": [
    "heart = pd.read_csv('heart_disease_uci.csv')\n",
    "heart"
   ]
  },
  {
   "cell_type": "code",
   "execution_count": 3,
   "metadata": {},
   "outputs": [
    {
     "data": {
      "text/plain": [
       "Index(['id', 'age', 'sex', 'dataset', 'cp', 'trestbps', 'chol', 'fbs',\n",
       "       'restecg', 'thalch', 'exang', 'oldpeak', 'slope', 'ca', 'thal', 'num'],\n",
       "      dtype='object')"
      ]
     },
     "execution_count": 3,
     "metadata": {},
     "output_type": "execute_result"
    }
   ],
   "source": [
    "heart.columns"
   ]
  },
  {
   "attachments": {},
   "cell_type": "markdown",
   "metadata": {},
   "source": [
    "View NA values:"
   ]
  },
  {
   "cell_type": "code",
   "execution_count": 4,
   "metadata": {},
   "outputs": [
    {
     "data": {
      "text/plain": [
       "id            0\n",
       "age           0\n",
       "sex           0\n",
       "dataset       0\n",
       "cp            0\n",
       "trestbps     59\n",
       "chol         30\n",
       "fbs          90\n",
       "restecg       2\n",
       "thalch       55\n",
       "exang        55\n",
       "oldpeak      62\n",
       "slope       309\n",
       "ca          611\n",
       "thal        486\n",
       "num           0\n",
       "dtype: int64"
      ]
     },
     "execution_count": 4,
     "metadata": {},
     "output_type": "execute_result"
    }
   ],
   "source": [
    "heart.isna().sum()"
   ]
  },
  {
   "attachments": {},
   "cell_type": "markdown",
   "metadata": {},
   "source": [
    "Here we examind some specific values for thal, which we determined was an import factor in our data:"
   ]
  },
  {
   "cell_type": "code",
   "execution_count": 5,
   "metadata": {},
   "outputs": [
    {
     "data": {
      "text/plain": [
       "normal               196\n",
       "reversable defect    192\n",
       "fixed defect          46\n",
       "Name: thal, dtype: int64"
      ]
     },
     "execution_count": 5,
     "metadata": {},
     "output_type": "execute_result"
    }
   ],
   "source": [
    "heart.thal.value_counts()"
   ]
  },
  {
   "cell_type": "code",
   "execution_count": 6,
   "metadata": {},
   "outputs": [
    {
     "data": {
      "text/plain": [
       "(920, 16)"
      ]
     },
     "execution_count": 6,
     "metadata": {},
     "output_type": "execute_result"
    }
   ],
   "source": [
    "heart.shape"
   ]
  },
  {
   "attachments": {},
   "cell_type": "markdown",
   "metadata": {},
   "source": [
    "## Statistical Analysis using the Statsmodels library\n",
    "### Fitting the entire dataset based on 'num'"
   ]
  },
  {
   "attachments": {},
   "cell_type": "markdown",
   "metadata": {},
   "source": [
    "From analyzing the dataset, the predictive value is 'num'. Num stands for the predicted stage of heart disease for each patient, and with our analysis we want to see which variables are most influential in predicting these values. In this analysis we leave out location because we want to analyze this variable later."
   ]
  },
  {
   "cell_type": "code",
   "execution_count": 7,
   "metadata": {},
   "outputs": [
    {
     "data": {
      "text/html": [
       "<table class=\"simpletable\">\n",
       "<caption>OLS Regression Results</caption>\n",
       "<tr>\n",
       "  <th>Dep. Variable:</th>           <td>num</td>       <th>  R-squared:         </th> <td>   0.584</td>\n",
       "</tr>\n",
       "<tr>\n",
       "  <th>Model:</th>                   <td>OLS</td>       <th>  Adj. R-squared:    </th> <td>   0.557</td>\n",
       "</tr>\n",
       "<tr>\n",
       "  <th>Method:</th>             <td>Least Squares</td>  <th>  F-statistic:       </th> <td>   21.82</td>\n",
       "</tr>\n",
       "<tr>\n",
       "  <th>Date:</th>             <td>Thu, 09 Mar 2023</td> <th>  Prob (F-statistic):</th> <td>3.38e-43</td>\n",
       "</tr>\n",
       "<tr>\n",
       "  <th>Time:</th>                 <td>20:04:26</td>     <th>  Log-Likelihood:    </th> <td> -354.72</td>\n",
       "</tr>\n",
       "<tr>\n",
       "  <th>No. Observations:</th>      <td>   299</td>      <th>  AIC:               </th> <td>   747.4</td>\n",
       "</tr>\n",
       "<tr>\n",
       "  <th>Df Residuals:</th>          <td>   280</td>      <th>  BIC:               </th> <td>   817.8</td>\n",
       "</tr>\n",
       "<tr>\n",
       "  <th>Df Model:</th>              <td>    18</td>      <th>                     </th>     <td> </td>   \n",
       "</tr>\n",
       "<tr>\n",
       "  <th>Covariance Type:</th>      <td>nonrobust</td>    <th>                     </th>     <td> </td>   \n",
       "</tr>\n",
       "</table>\n",
       "<table class=\"simpletable\">\n",
       "<tr>\n",
       "               <td></td>                  <th>coef</th>     <th>std err</th>      <th>t</th>      <th>P>|t|</th>  <th>[0.025</th>    <th>0.975]</th>  \n",
       "</tr>\n",
       "<tr>\n",
       "  <th>Intercept</th>                   <td>    1.0533</td> <td>    0.750</td> <td>    1.403</td> <td> 0.162</td> <td>   -0.424</td> <td>    2.531</td>\n",
       "</tr>\n",
       "<tr>\n",
       "  <th>sex[T.Male]</th>                 <td>    0.2147</td> <td>    0.118</td> <td>    1.824</td> <td> 0.069</td> <td>   -0.017</td> <td>    0.446</td>\n",
       "</tr>\n",
       "<tr>\n",
       "  <th>cp[T.atypical angina]</th>       <td>   -0.2846</td> <td>    0.157</td> <td>   -1.812</td> <td> 0.071</td> <td>   -0.594</td> <td>    0.025</td>\n",
       "</tr>\n",
       "<tr>\n",
       "  <th>cp[T.non-anginal]</th>           <td>   -0.4625</td> <td>    0.130</td> <td>   -3.551</td> <td> 0.000</td> <td>   -0.719</td> <td>   -0.206</td>\n",
       "</tr>\n",
       "<tr>\n",
       "  <th>cp[T.typical angina]</th>        <td>   -0.6959</td> <td>    0.198</td> <td>   -3.512</td> <td> 0.001</td> <td>   -1.086</td> <td>   -0.306</td>\n",
       "</tr>\n",
       "<tr>\n",
       "  <th>fbs[T.True]</th>                 <td>    0.0164</td> <td>    0.143</td> <td>    0.114</td> <td> 0.909</td> <td>   -0.266</td> <td>    0.299</td>\n",
       "</tr>\n",
       "<tr>\n",
       "  <th>restecg[T.normal]</th>           <td>   -0.1994</td> <td>    0.100</td> <td>   -1.985</td> <td> 0.048</td> <td>   -0.397</td> <td>   -0.002</td>\n",
       "</tr>\n",
       "<tr>\n",
       "  <th>restecg[T.st-t abnormality]</th> <td>    0.5487</td> <td>    0.428</td> <td>    1.283</td> <td> 0.201</td> <td>   -0.293</td> <td>    1.391</td>\n",
       "</tr>\n",
       "<tr>\n",
       "  <th>exang[T.True]</th>               <td>    0.1649</td> <td>    0.121</td> <td>    1.360</td> <td> 0.175</td> <td>   -0.074</td> <td>    0.403</td>\n",
       "</tr>\n",
       "<tr>\n",
       "  <th>slope[T.flat]</th>               <td>    0.0410</td> <td>    0.210</td> <td>    0.195</td> <td> 0.845</td> <td>   -0.372</td> <td>    0.453</td>\n",
       "</tr>\n",
       "<tr>\n",
       "  <th>slope[T.upsloping]</th>          <td>   -0.2248</td> <td>    0.231</td> <td>   -0.972</td> <td> 0.332</td> <td>   -0.680</td> <td>    0.231</td>\n",
       "</tr>\n",
       "<tr>\n",
       "  <th>thal[T.normal]</th>              <td>   -0.1430</td> <td>    0.224</td> <td>   -0.639</td> <td> 0.523</td> <td>   -0.584</td> <td>    0.297</td>\n",
       "</tr>\n",
       "<tr>\n",
       "  <th>thal[T.reversable defect]</th>   <td>    0.3947</td> <td>    0.213</td> <td>    1.851</td> <td> 0.065</td> <td>   -0.025</td> <td>    0.814</td>\n",
       "</tr>\n",
       "<tr>\n",
       "  <th>age</th>                         <td>   -0.0071</td> <td>    0.006</td> <td>   -1.109</td> <td> 0.268</td> <td>   -0.020</td> <td>    0.006</td>\n",
       "</tr>\n",
       "<tr>\n",
       "  <th>trestbps</th>                    <td>    0.0042</td> <td>    0.003</td> <td>    1.434</td> <td> 0.153</td> <td>   -0.002</td> <td>    0.010</td>\n",
       "</tr>\n",
       "<tr>\n",
       "  <th>chol</th>                        <td> 9.282e-05</td> <td>    0.001</td> <td>    0.096</td> <td> 0.924</td> <td>   -0.002</td> <td>    0.002</td>\n",
       "</tr>\n",
       "<tr>\n",
       "  <th>thalch</th>                      <td>   -0.0044</td> <td>    0.003</td> <td>   -1.619</td> <td> 0.106</td> <td>   -0.010</td> <td>    0.001</td>\n",
       "</tr>\n",
       "<tr>\n",
       "  <th>oldpeak</th>                     <td>    0.1893</td> <td>    0.056</td> <td>    3.395</td> <td> 0.001</td> <td>    0.080</td> <td>    0.299</td>\n",
       "</tr>\n",
       "<tr>\n",
       "  <th>ca</th>                          <td>    0.4200</td> <td>    0.059</td> <td>    7.079</td> <td> 0.000</td> <td>    0.303</td> <td>    0.537</td>\n",
       "</tr>\n",
       "</table>\n",
       "<table class=\"simpletable\">\n",
       "<tr>\n",
       "  <th>Omnibus:</th>       <td>21.441</td> <th>  Durbin-Watson:     </th> <td>   1.910</td>\n",
       "</tr>\n",
       "<tr>\n",
       "  <th>Prob(Omnibus):</th> <td> 0.000</td> <th>  Jarque-Bera (JB):  </th> <td>  27.359</td>\n",
       "</tr>\n",
       "<tr>\n",
       "  <th>Skew:</th>          <td> 0.552</td> <th>  Prob(JB):          </th> <td>1.15e-06</td>\n",
       "</tr>\n",
       "<tr>\n",
       "  <th>Kurtosis:</th>      <td> 3.988</td> <th>  Cond. No.          </th> <td>5.22e+03</td>\n",
       "</tr>\n",
       "</table><br/><br/>Notes:<br/>[1] Standard Errors assume that the covariance matrix of the errors is correctly specified.<br/>[2] The condition number is large, 5.22e+03. This might indicate that there are<br/>strong multicollinearity or other numerical problems."
      ],
      "text/plain": [
       "<class 'statsmodels.iolib.summary.Summary'>\n",
       "\"\"\"\n",
       "                            OLS Regression Results                            \n",
       "==============================================================================\n",
       "Dep. Variable:                    num   R-squared:                       0.584\n",
       "Model:                            OLS   Adj. R-squared:                  0.557\n",
       "Method:                 Least Squares   F-statistic:                     21.82\n",
       "Date:                Thu, 09 Mar 2023   Prob (F-statistic):           3.38e-43\n",
       "Time:                        20:04:26   Log-Likelihood:                -354.72\n",
       "No. Observations:                 299   AIC:                             747.4\n",
       "Df Residuals:                     280   BIC:                             817.8\n",
       "Df Model:                          18                                         \n",
       "Covariance Type:            nonrobust                                         \n",
       "===============================================================================================\n",
       "                                  coef    std err          t      P>|t|      [0.025      0.975]\n",
       "-----------------------------------------------------------------------------------------------\n",
       "Intercept                       1.0533      0.750      1.403      0.162      -0.424       2.531\n",
       "sex[T.Male]                     0.2147      0.118      1.824      0.069      -0.017       0.446\n",
       "cp[T.atypical angina]          -0.2846      0.157     -1.812      0.071      -0.594       0.025\n",
       "cp[T.non-anginal]              -0.4625      0.130     -3.551      0.000      -0.719      -0.206\n",
       "cp[T.typical angina]           -0.6959      0.198     -3.512      0.001      -1.086      -0.306\n",
       "fbs[T.True]                     0.0164      0.143      0.114      0.909      -0.266       0.299\n",
       "restecg[T.normal]              -0.1994      0.100     -1.985      0.048      -0.397      -0.002\n",
       "restecg[T.st-t abnormality]     0.5487      0.428      1.283      0.201      -0.293       1.391\n",
       "exang[T.True]                   0.1649      0.121      1.360      0.175      -0.074       0.403\n",
       "slope[T.flat]                   0.0410      0.210      0.195      0.845      -0.372       0.453\n",
       "slope[T.upsloping]             -0.2248      0.231     -0.972      0.332      -0.680       0.231\n",
       "thal[T.normal]                 -0.1430      0.224     -0.639      0.523      -0.584       0.297\n",
       "thal[T.reversable defect]       0.3947      0.213      1.851      0.065      -0.025       0.814\n",
       "age                            -0.0071      0.006     -1.109      0.268      -0.020       0.006\n",
       "trestbps                        0.0042      0.003      1.434      0.153      -0.002       0.010\n",
       "chol                         9.282e-05      0.001      0.096      0.924      -0.002       0.002\n",
       "thalch                         -0.0044      0.003     -1.619      0.106      -0.010       0.001\n",
       "oldpeak                         0.1893      0.056      3.395      0.001       0.080       0.299\n",
       "ca                              0.4200      0.059      7.079      0.000       0.303       0.537\n",
       "==============================================================================\n",
       "Omnibus:                       21.441   Durbin-Watson:                   1.910\n",
       "Prob(Omnibus):                  0.000   Jarque-Bera (JB):               27.359\n",
       "Skew:                           0.552   Prob(JB):                     1.15e-06\n",
       "Kurtosis:                       3.988   Cond. No.                     5.22e+03\n",
       "==============================================================================\n",
       "\n",
       "Notes:\n",
       "[1] Standard Errors assume that the covariance matrix of the errors is correctly specified.\n",
       "[2] The condition number is large, 5.22e+03. This might indicate that there are\n",
       "strong multicollinearity or other numerical problems.\n",
       "\"\"\""
      ]
     },
     "execution_count": 7,
     "metadata": {},
     "output_type": "execute_result"
    }
   ],
   "source": [
    "m = smf.ols(\"num ~ age + sex + cp + trestbps + chol + fbs + restecg + thalch + exang + oldpeak + slope + ca + thal\", data = heart).fit()\n",
    "m.summary()"
   ]
  },
  {
   "attachments": {},
   "cell_type": "markdown",
   "metadata": {},
   "source": [
    "To analyze our model, we decided to use the OLS model, or the Ordinary Least Squares model. The OLS model utilizes linear regression to fit the model, and when used with the summary function, we can determine which values are statistically significant in this model. Statistically significant means that the values we get from these variables would be very rare if our null hypothesis was true. Essentially, that they could not just happen randomly so they must be important in our analysis. When we conduct our summary we find 4 significant values, ca, oldpeak, cp(non-aniginal), cp(typical angina). For categorical variables, such as cp, statsmodels automatically makes them into dummy variables because categorical variables would not work in linear regression. "
   ]
  },
  {
   "attachments": {},
   "cell_type": "markdown",
   "metadata": {},
   "source": [
    "For our model, we determine statistical significance by looking at p-values and t-values. P-values are probability, which in this summary tells us that probability that this value would occur. We are looking for extremely small values. A p-value of 0.000 means that the probability this value would occur is almost 0%, which tells us it is significant in our model. Additionally, we also need to look at the t-value. The t-value is a very common statistical measure that is created from variability and standard error within the model. For our analysis it is important, the greater the t-value the more evidence there is against the null hypothesis. \n",
    "\n",
    "Our 4 values are determined to be significant because their p-values are all very small [0.000 - 0.001]. Additionally, their t-value are all larger than the t-critical value. When analyzing t-values, you should look up the t-critical value on a t-value chart. For our analysis, the t-critical value is 2.101. This is determined by viewing the confidence interval and Df Model values and then matching those values on the t-value table. Our 4 variables are the only ones with t-values greater than the t-critical. This is how we've determined their significance."
   ]
  },
  {
   "attachments": {},
   "cell_type": "markdown",
   "metadata": {},
   "source": [
    "Lastly, we can analyze these values by looking at their coefficient (coeff). Firstly we look at the intercept. This tell us num value for our default in our model. The statsmodel library will select the default values automatically, and changing them is very complicated when working with so many variables. Our default values are the categorical variables not listed within the summary table. From the intercept value, the change is the value of each variable. For example, when looking at `oldpeak` we can determine that as `oldpeak` increases by 1 unit, that the predicted level of heart disease will increase by 0.1893. This rise is not as influential as the other variables. The most influential appears to be cp(typical angina). If the patient has typical angina, their stage of heart disease decreases by 0.70, which is almost a whole stage. "
   ]
  },
  {
   "attachments": {},
   "cell_type": "markdown",
   "metadata": {},
   "source": [
    "### Analyzing by Location\n",
    "In this analysis we add in the location data with all the variales, and then we analyze with just the most significant values and location."
   ]
  },
  {
   "cell_type": "code",
   "execution_count": 8,
   "metadata": {},
   "outputs": [
    {
     "data": {
      "text/plain": [
       "Cleveland        304\n",
       "Hungary          293\n",
       "VA Long Beach    200\n",
       "Switzerland      123\n",
       "Name: dataset, dtype: int64"
      ]
     },
     "execution_count": 8,
     "metadata": {},
     "output_type": "execute_result"
    }
   ],
   "source": [
    "heart.dataset.value_counts()"
   ]
  },
  {
   "cell_type": "code",
   "execution_count": 9,
   "metadata": {},
   "outputs": [
    {
     "data": {
      "text/html": [
       "<table class=\"simpletable\">\n",
       "<caption>OLS Regression Results</caption>\n",
       "<tr>\n",
       "  <th>Dep. Variable:</th>           <td>num</td>       <th>  R-squared:         </th> <td>   0.586</td>\n",
       "</tr>\n",
       "<tr>\n",
       "  <th>Model:</th>                   <td>OLS</td>       <th>  Adj. R-squared:    </th> <td>   0.556</td>\n",
       "</tr>\n",
       "<tr>\n",
       "  <th>Method:</th>             <td>Least Squares</td>  <th>  F-statistic:       </th> <td>   19.69</td>\n",
       "</tr>\n",
       "<tr>\n",
       "  <th>Date:</th>             <td>Thu, 09 Mar 2023</td> <th>  Prob (F-statistic):</th> <td>3.43e-42</td>\n",
       "</tr>\n",
       "<tr>\n",
       "  <th>Time:</th>                 <td>20:04:26</td>     <th>  Log-Likelihood:    </th> <td> -353.85</td>\n",
       "</tr>\n",
       "<tr>\n",
       "  <th>No. Observations:</th>      <td>   299</td>      <th>  AIC:               </th> <td>   749.7</td>\n",
       "</tr>\n",
       "<tr>\n",
       "  <th>Df Residuals:</th>          <td>   278</td>      <th>  BIC:               </th> <td>   827.4</td>\n",
       "</tr>\n",
       "<tr>\n",
       "  <th>Df Model:</th>              <td>    20</td>      <th>                     </th>     <td> </td>   \n",
       "</tr>\n",
       "<tr>\n",
       "  <th>Covariance Type:</th>      <td>nonrobust</td>    <th>                     </th>     <td> </td>   \n",
       "</tr>\n",
       "</table>\n",
       "<table class=\"simpletable\">\n",
       "<tr>\n",
       "               <td></td>                  <th>coef</th>     <th>std err</th>      <th>t</th>      <th>P>|t|</th>  <th>[0.025</th>    <th>0.975]</th>  \n",
       "</tr>\n",
       "<tr>\n",
       "  <th>Intercept</th>                   <td>    1.1167</td> <td>    0.753</td> <td>    1.484</td> <td> 0.139</td> <td>   -0.365</td> <td>    2.598</td>\n",
       "</tr>\n",
       "<tr>\n",
       "  <th>sex[T.Male]</th>                 <td>    0.2171</td> <td>    0.118</td> <td>    1.843</td> <td> 0.066</td> <td>   -0.015</td> <td>    0.449</td>\n",
       "</tr>\n",
       "<tr>\n",
       "  <th>dataset[T.Hungary]</th>          <td>   -0.9031</td> <td>    0.841</td> <td>   -1.074</td> <td> 0.284</td> <td>   -2.558</td> <td>    0.752</td>\n",
       "</tr>\n",
       "<tr>\n",
       "  <th>dataset[T.Switzerland]</th>      <td>-1.703e-14</td> <td> 1.13e-14</td> <td>   -1.507</td> <td> 0.133</td> <td>-3.93e-14</td> <td> 5.21e-15</td>\n",
       "</tr>\n",
       "<tr>\n",
       "  <th>dataset[T.VA Long Beach]</th>    <td>   -0.5961</td> <td>    0.841</td> <td>   -0.709</td> <td> 0.479</td> <td>   -2.252</td> <td>    1.060</td>\n",
       "</tr>\n",
       "<tr>\n",
       "  <th>cp[T.atypical angina]</th>       <td>   -0.2867</td> <td>    0.157</td> <td>   -1.823</td> <td> 0.069</td> <td>   -0.596</td> <td>    0.023</td>\n",
       "</tr>\n",
       "<tr>\n",
       "  <th>cp[T.non-anginal]</th>           <td>   -0.4666</td> <td>    0.130</td> <td>   -3.579</td> <td> 0.000</td> <td>   -0.723</td> <td>   -0.210</td>\n",
       "</tr>\n",
       "<tr>\n",
       "  <th>cp[T.typical angina]</th>        <td>   -0.7011</td> <td>    0.198</td> <td>   -3.535</td> <td> 0.000</td> <td>   -1.091</td> <td>   -0.311</td>\n",
       "</tr>\n",
       "<tr>\n",
       "  <th>fbs[T.True]</th>                 <td>    0.0147</td> <td>    0.143</td> <td>    0.103</td> <td> 0.918</td> <td>   -0.268</td> <td>    0.297</td>\n",
       "</tr>\n",
       "<tr>\n",
       "  <th>restecg[T.normal]</th>           <td>   -0.1910</td> <td>    0.101</td> <td>   -1.896</td> <td> 0.059</td> <td>   -0.389</td> <td>    0.007</td>\n",
       "</tr>\n",
       "<tr>\n",
       "  <th>restecg[T.st-t abnormality]</th> <td>    0.5454</td> <td>    0.428</td> <td>    1.274</td> <td> 0.204</td> <td>   -0.297</td> <td>    1.388</td>\n",
       "</tr>\n",
       "<tr>\n",
       "  <th>exang[T.True]</th>               <td>    0.1710</td> <td>    0.121</td> <td>    1.408</td> <td> 0.160</td> <td>   -0.068</td> <td>    0.410</td>\n",
       "</tr>\n",
       "<tr>\n",
       "  <th>slope[T.flat]</th>               <td>    0.0507</td> <td>    0.210</td> <td>    0.242</td> <td> 0.809</td> <td>   -0.362</td> <td>    0.464</td>\n",
       "</tr>\n",
       "<tr>\n",
       "  <th>slope[T.upsloping]</th>          <td>   -0.2187</td> <td>    0.232</td> <td>   -0.944</td> <td> 0.346</td> <td>   -0.675</td> <td>    0.237</td>\n",
       "</tr>\n",
       "<tr>\n",
       "  <th>thal[T.normal]</th>              <td>   -0.1326</td> <td>    0.224</td> <td>   -0.592</td> <td> 0.555</td> <td>   -0.574</td> <td>    0.309</td>\n",
       "</tr>\n",
       "<tr>\n",
       "  <th>thal[T.reversable defect]</th>   <td>    0.4113</td> <td>    0.214</td> <td>    1.924</td> <td> 0.055</td> <td>   -0.010</td> <td>    0.832</td>\n",
       "</tr>\n",
       "<tr>\n",
       "  <th>age</th>                         <td>   -0.0076</td> <td>    0.006</td> <td>   -1.171</td> <td> 0.243</td> <td>   -0.020</td> <td>    0.005</td>\n",
       "</tr>\n",
       "<tr>\n",
       "  <th>trestbps</th>                    <td>    0.0045</td> <td>    0.003</td> <td>    1.512</td> <td> 0.132</td> <td>   -0.001</td> <td>    0.010</td>\n",
       "</tr>\n",
       "<tr>\n",
       "  <th>chol</th>                        <td>-1.198e-05</td> <td>    0.001</td> <td>   -0.012</td> <td> 0.990</td> <td>   -0.002</td> <td>    0.002</td>\n",
       "</tr>\n",
       "<tr>\n",
       "  <th>thalch</th>                      <td>   -0.0048</td> <td>    0.003</td> <td>   -1.757</td> <td> 0.080</td> <td>   -0.010</td> <td>    0.001</td>\n",
       "</tr>\n",
       "<tr>\n",
       "  <th>oldpeak</th>                     <td>    0.1883</td> <td>    0.056</td> <td>    3.374</td> <td> 0.001</td> <td>    0.078</td> <td>    0.298</td>\n",
       "</tr>\n",
       "<tr>\n",
       "  <th>ca</th>                          <td>    0.4145</td> <td>    0.060</td> <td>    6.962</td> <td> 0.000</td> <td>    0.297</td> <td>    0.532</td>\n",
       "</tr>\n",
       "</table>\n",
       "<table class=\"simpletable\">\n",
       "<tr>\n",
       "  <th>Omnibus:</th>       <td>20.983</td> <th>  Durbin-Watson:     </th> <td>   1.912</td>\n",
       "</tr>\n",
       "<tr>\n",
       "  <th>Prob(Omnibus):</th> <td> 0.000</td> <th>  Jarque-Bera (JB):  </th> <td>  27.287</td>\n",
       "</tr>\n",
       "<tr>\n",
       "  <th>Skew:</th>          <td> 0.534</td> <th>  Prob(JB):          </th> <td>1.19e-06</td>\n",
       "</tr>\n",
       "<tr>\n",
       "  <th>Kurtosis:</th>      <td> 4.024</td> <th>  Cond. No.          </th> <td>4.43e+17</td>\n",
       "</tr>\n",
       "</table><br/><br/>Notes:<br/>[1] Standard Errors assume that the covariance matrix of the errors is correctly specified.<br/>[2] The smallest eigenvalue is 1.61e-28. This might indicate that there are<br/>strong multicollinearity problems or that the design matrix is singular."
      ],
      "text/plain": [
       "<class 'statsmodels.iolib.summary.Summary'>\n",
       "\"\"\"\n",
       "                            OLS Regression Results                            \n",
       "==============================================================================\n",
       "Dep. Variable:                    num   R-squared:                       0.586\n",
       "Model:                            OLS   Adj. R-squared:                  0.556\n",
       "Method:                 Least Squares   F-statistic:                     19.69\n",
       "Date:                Thu, 09 Mar 2023   Prob (F-statistic):           3.43e-42\n",
       "Time:                        20:04:26   Log-Likelihood:                -353.85\n",
       "No. Observations:                 299   AIC:                             749.7\n",
       "Df Residuals:                     278   BIC:                             827.4\n",
       "Df Model:                          20                                         \n",
       "Covariance Type:            nonrobust                                         \n",
       "===============================================================================================\n",
       "                                  coef    std err          t      P>|t|      [0.025      0.975]\n",
       "-----------------------------------------------------------------------------------------------\n",
       "Intercept                       1.1167      0.753      1.484      0.139      -0.365       2.598\n",
       "sex[T.Male]                     0.2171      0.118      1.843      0.066      -0.015       0.449\n",
       "dataset[T.Hungary]             -0.9031      0.841     -1.074      0.284      -2.558       0.752\n",
       "dataset[T.Switzerland]      -1.703e-14   1.13e-14     -1.507      0.133   -3.93e-14    5.21e-15\n",
       "dataset[T.VA Long Beach]       -0.5961      0.841     -0.709      0.479      -2.252       1.060\n",
       "cp[T.atypical angina]          -0.2867      0.157     -1.823      0.069      -0.596       0.023\n",
       "cp[T.non-anginal]              -0.4666      0.130     -3.579      0.000      -0.723      -0.210\n",
       "cp[T.typical angina]           -0.7011      0.198     -3.535      0.000      -1.091      -0.311\n",
       "fbs[T.True]                     0.0147      0.143      0.103      0.918      -0.268       0.297\n",
       "restecg[T.normal]              -0.1910      0.101     -1.896      0.059      -0.389       0.007\n",
       "restecg[T.st-t abnormality]     0.5454      0.428      1.274      0.204      -0.297       1.388\n",
       "exang[T.True]                   0.1710      0.121      1.408      0.160      -0.068       0.410\n",
       "slope[T.flat]                   0.0507      0.210      0.242      0.809      -0.362       0.464\n",
       "slope[T.upsloping]             -0.2187      0.232     -0.944      0.346      -0.675       0.237\n",
       "thal[T.normal]                 -0.1326      0.224     -0.592      0.555      -0.574       0.309\n",
       "thal[T.reversable defect]       0.4113      0.214      1.924      0.055      -0.010       0.832\n",
       "age                            -0.0076      0.006     -1.171      0.243      -0.020       0.005\n",
       "trestbps                        0.0045      0.003      1.512      0.132      -0.001       0.010\n",
       "chol                        -1.198e-05      0.001     -0.012      0.990      -0.002       0.002\n",
       "thalch                         -0.0048      0.003     -1.757      0.080      -0.010       0.001\n",
       "oldpeak                         0.1883      0.056      3.374      0.001       0.078       0.298\n",
       "ca                              0.4145      0.060      6.962      0.000       0.297       0.532\n",
       "==============================================================================\n",
       "Omnibus:                       20.983   Durbin-Watson:                   1.912\n",
       "Prob(Omnibus):                  0.000   Jarque-Bera (JB):               27.287\n",
       "Skew:                           0.534   Prob(JB):                     1.19e-06\n",
       "Kurtosis:                       4.024   Cond. No.                     4.43e+17\n",
       "==============================================================================\n",
       "\n",
       "Notes:\n",
       "[1] Standard Errors assume that the covariance matrix of the errors is correctly specified.\n",
       "[2] The smallest eigenvalue is 1.61e-28. This might indicate that there are\n",
       "strong multicollinearity problems or that the design matrix is singular.\n",
       "\"\"\""
      ]
     },
     "execution_count": 9,
     "metadata": {},
     "output_type": "execute_result"
    }
   ],
   "source": [
    "m = smf.ols(\"num ~ age + sex + dataset + cp + trestbps + chol + fbs + restecg + thalch + exang + oldpeak + slope + ca + thal\", data = heart).fit()\n",
    "m.summary()"
   ]
  },
  {
   "cell_type": "code",
   "execution_count": 1,
   "metadata": {},
   "outputs": [
    {
     "ename": "NameError",
     "evalue": "name 'smf' is not defined",
     "output_type": "error",
     "traceback": [
      "\u001b[1;31m---------------------------------------------------------------------------\u001b[0m",
      "\u001b[1;31mNameError\u001b[0m                                 Traceback (most recent call last)",
      "\u001b[1;32mc:\\Users\\efgro\\Downloads\\CSE 163 Data Programming\\heart-disease\\coding.ipynb Cell 21\u001b[0m in \u001b[0;36m<cell line: 1>\u001b[1;34m()\u001b[0m\n\u001b[1;32m----> <a href='vscode-notebook-cell:/c%3A/Users/efgro/Downloads/CSE%20163%20Data%20Programming/heart-disease/coding.ipynb#Y112sZmlsZQ%3D%3D?line=0'>1</a>\u001b[0m m \u001b[39m=\u001b[39m smf\u001b[39m.\u001b[39mols(\u001b[39m\"\u001b[39m\u001b[39mnum ~ cp + oldpeak + ca + dataset\u001b[39m\u001b[39m\"\u001b[39m, data \u001b[39m=\u001b[39m heart)\u001b[39m.\u001b[39mfit()\n\u001b[0;32m      <a href='vscode-notebook-cell:/c%3A/Users/efgro/Downloads/CSE%20163%20Data%20Programming/heart-disease/coding.ipynb#Y112sZmlsZQ%3D%3D?line=1'>2</a>\u001b[0m m\u001b[39m.\u001b[39msummary()\n",
      "\u001b[1;31mNameError\u001b[0m: name 'smf' is not defined"
     ]
    }
   ],
   "source": [
    "m = smf.ols(\"num ~ cp + oldpeak + ca + dataset\", data = heart).fit()\n",
    "m.summary()"
   ]
  },
  {
   "cell_type": "code",
   "execution_count": 10,
   "metadata": {},
   "outputs": [
    {
     "data": {
      "text/html": [
       "<table class=\"simpletable\">\n",
       "<caption>OLS Regression Results</caption>\n",
       "<tr>\n",
       "  <th>Dep. Variable:</th>           <td>num</td>       <th>  R-squared:         </th> <td>   0.484</td>\n",
       "</tr>\n",
       "<tr>\n",
       "  <th>Model:</th>                   <td>OLS</td>       <th>  Adj. R-squared:    </th> <td>   0.476</td>\n",
       "</tr>\n",
       "<tr>\n",
       "  <th>Method:</th>             <td>Least Squares</td>  <th>  F-statistic:       </th> <td>   56.94</td>\n",
       "</tr>\n",
       "<tr>\n",
       "  <th>Date:</th>             <td>Thu, 09 Mar 2023</td> <th>  Prob (F-statistic):</th> <td>1.25e-41</td>\n",
       "</tr>\n",
       "<tr>\n",
       "  <th>Time:</th>                 <td>20:04:26</td>     <th>  Log-Likelihood:    </th> <td> -399.30</td>\n",
       "</tr>\n",
       "<tr>\n",
       "  <th>No. Observations:</th>      <td>   309</td>      <th>  AIC:               </th> <td>   810.6</td>\n",
       "</tr>\n",
       "<tr>\n",
       "  <th>Df Residuals:</th>          <td>   303</td>      <th>  BIC:               </th> <td>   833.0</td>\n",
       "</tr>\n",
       "<tr>\n",
       "  <th>Df Model:</th>              <td>     5</td>      <th>                     </th>     <td> </td>   \n",
       "</tr>\n",
       "<tr>\n",
       "  <th>Covariance Type:</th>      <td>nonrobust</td>    <th>                     </th>     <td> </td>   \n",
       "</tr>\n",
       "</table>\n",
       "<table class=\"simpletable\">\n",
       "<tr>\n",
       "            <td></td>               <th>coef</th>     <th>std err</th>      <th>t</th>      <th>P>|t|</th>  <th>[0.025</th>    <th>0.975]</th>  \n",
       "</tr>\n",
       "<tr>\n",
       "  <th>Intercept</th>             <td>    0.6765</td> <td>    0.104</td> <td>    6.505</td> <td> 0.000</td> <td>    0.472</td> <td>    0.881</td>\n",
       "</tr>\n",
       "<tr>\n",
       "  <th>cp[T.atypical angina]</th> <td>   -0.6569</td> <td>    0.155</td> <td>   -4.237</td> <td> 0.000</td> <td>   -0.962</td> <td>   -0.352</td>\n",
       "</tr>\n",
       "<tr>\n",
       "  <th>cp[T.non-anginal]</th>     <td>   -0.7917</td> <td>    0.125</td> <td>   -6.342</td> <td> 0.000</td> <td>   -1.037</td> <td>   -0.546</td>\n",
       "</tr>\n",
       "<tr>\n",
       "  <th>cp[T.typical angina]</th>  <td>   -0.8635</td> <td>    0.197</td> <td>   -4.389</td> <td> 0.000</td> <td>   -1.251</td> <td>   -0.476</td>\n",
       "</tr>\n",
       "<tr>\n",
       "  <th>oldpeak</th>               <td>    0.3363</td> <td>    0.048</td> <td>    7.025</td> <td> 0.000</td> <td>    0.242</td> <td>    0.430</td>\n",
       "</tr>\n",
       "<tr>\n",
       "  <th>ca</th>                    <td>    0.4612</td> <td>    0.058</td> <td>    8.016</td> <td> 0.000</td> <td>    0.348</td> <td>    0.574</td>\n",
       "</tr>\n",
       "</table>\n",
       "<table class=\"simpletable\">\n",
       "<tr>\n",
       "  <th>Omnibus:</th>       <td>27.524</td> <th>  Durbin-Watson:     </th> <td>   1.915</td>\n",
       "</tr>\n",
       "<tr>\n",
       "  <th>Prob(Omnibus):</th> <td> 0.000</td> <th>  Jarque-Bera (JB):  </th> <td>  33.397</td>\n",
       "</tr>\n",
       "<tr>\n",
       "  <th>Skew:</th>          <td> 0.698</td> <th>  Prob(JB):          </th> <td>5.60e-08</td>\n",
       "</tr>\n",
       "<tr>\n",
       "  <th>Kurtosis:</th>      <td> 3.805</td> <th>  Cond. No.          </th> <td>    8.20</td>\n",
       "</tr>\n",
       "</table><br/><br/>Notes:<br/>[1] Standard Errors assume that the covariance matrix of the errors is correctly specified."
      ],
      "text/plain": [
       "<class 'statsmodels.iolib.summary.Summary'>\n",
       "\"\"\"\n",
       "                            OLS Regression Results                            \n",
       "==============================================================================\n",
       "Dep. Variable:                    num   R-squared:                       0.484\n",
       "Model:                            OLS   Adj. R-squared:                  0.476\n",
       "Method:                 Least Squares   F-statistic:                     56.94\n",
       "Date:                Thu, 09 Mar 2023   Prob (F-statistic):           1.25e-41\n",
       "Time:                        20:04:26   Log-Likelihood:                -399.30\n",
       "No. Observations:                 309   AIC:                             810.6\n",
       "Df Residuals:                     303   BIC:                             833.0\n",
       "Df Model:                           5                                         \n",
       "Covariance Type:            nonrobust                                         \n",
       "=========================================================================================\n",
       "                            coef    std err          t      P>|t|      [0.025      0.975]\n",
       "-----------------------------------------------------------------------------------------\n",
       "Intercept                 0.6765      0.104      6.505      0.000       0.472       0.881\n",
       "cp[T.atypical angina]    -0.6569      0.155     -4.237      0.000      -0.962      -0.352\n",
       "cp[T.non-anginal]        -0.7917      0.125     -6.342      0.000      -1.037      -0.546\n",
       "cp[T.typical angina]     -0.8635      0.197     -4.389      0.000      -1.251      -0.476\n",
       "oldpeak                   0.3363      0.048      7.025      0.000       0.242       0.430\n",
       "ca                        0.4612      0.058      8.016      0.000       0.348       0.574\n",
       "==============================================================================\n",
       "Omnibus:                       27.524   Durbin-Watson:                   1.915\n",
       "Prob(Omnibus):                  0.000   Jarque-Bera (JB):               33.397\n",
       "Skew:                           0.698   Prob(JB):                     5.60e-08\n",
       "Kurtosis:                       3.805   Cond. No.                         8.20\n",
       "==============================================================================\n",
       "\n",
       "Notes:\n",
       "[1] Standard Errors assume that the covariance matrix of the errors is correctly specified.\n",
       "\"\"\""
      ]
     },
     "execution_count": 10,
     "metadata": {},
     "output_type": "execute_result"
    }
   ],
   "source": [
    "m = smf.ols(\"num ~ cp + oldpeak + ca\", data = heart).fit()\n",
    "m.summary()"
   ]
  },
  {
   "cell_type": "code",
   "execution_count": 11,
   "metadata": {},
   "outputs": [],
   "source": [
    "female = heart[heart.sex == 'Female']\n",
    "male = heart[heart.sex == 'Male']"
   ]
  },
  {
   "cell_type": "code",
   "execution_count": 12,
   "metadata": {},
   "outputs": [
    {
     "data": {
      "text/html": [
       "<table class=\"simpletable\">\n",
       "<caption>OLS Regression Results</caption>\n",
       "<tr>\n",
       "  <th>Dep. Variable:</th>           <td>num</td>       <th>  R-squared:         </th> <td>   0.789</td>\n",
       "</tr>\n",
       "<tr>\n",
       "  <th>Model:</th>                   <td>OLS</td>       <th>  Adj. R-squared:    </th> <td>   0.743</td>\n",
       "</tr>\n",
       "<tr>\n",
       "  <th>Method:</th>             <td>Least Squares</td>  <th>  F-statistic:       </th> <td>   17.17</td>\n",
       "</tr>\n",
       "<tr>\n",
       "  <th>Date:</th>             <td>Thu, 09 Mar 2023</td> <th>  Prob (F-statistic):</th> <td>1.02e-19</td>\n",
       "</tr>\n",
       "<tr>\n",
       "  <th>Time:</th>                 <td>20:04:26</td>     <th>  Log-Likelihood:    </th> <td> -65.278</td>\n",
       "</tr>\n",
       "<tr>\n",
       "  <th>No. Observations:</th>      <td>    96</td>      <th>  AIC:               </th> <td>   166.6</td>\n",
       "</tr>\n",
       "<tr>\n",
       "  <th>Df Residuals:</th>          <td>    78</td>      <th>  BIC:               </th> <td>   212.7</td>\n",
       "</tr>\n",
       "<tr>\n",
       "  <th>Df Model:</th>              <td>    17</td>      <th>                     </th>     <td> </td>   \n",
       "</tr>\n",
       "<tr>\n",
       "  <th>Covariance Type:</th>      <td>nonrobust</td>    <th>                     </th>     <td> </td>   \n",
       "</tr>\n",
       "</table>\n",
       "<table class=\"simpletable\">\n",
       "<tr>\n",
       "               <td></td>                  <th>coef</th>     <th>std err</th>      <th>t</th>      <th>P>|t|</th>  <th>[0.025</th>    <th>0.975]</th>  \n",
       "</tr>\n",
       "<tr>\n",
       "  <th>Intercept</th>                   <td>    0.1511</td> <td>    1.151</td> <td>    0.131</td> <td> 0.896</td> <td>   -2.140</td> <td>    2.442</td>\n",
       "</tr>\n",
       "<tr>\n",
       "  <th>dataset[T.Hungary]</th>          <td>-1.507e-14</td> <td> 1.02e-13</td> <td>   -0.147</td> <td> 0.883</td> <td>-2.19e-13</td> <td> 1.89e-13</td>\n",
       "</tr>\n",
       "<tr>\n",
       "  <th>dataset[T.Switzerland]</th>      <td>    -3e-15</td> <td> 5.17e-15</td> <td>   -0.580</td> <td> 0.563</td> <td>-1.33e-14</td> <td> 7.29e-15</td>\n",
       "</tr>\n",
       "<tr>\n",
       "  <th>dataset[T.VA Long Beach]</th>    <td> 2.216e-15</td> <td> 1.54e-15</td> <td>    1.439</td> <td> 0.154</td> <td> -8.5e-16</td> <td> 5.28e-15</td>\n",
       "</tr>\n",
       "<tr>\n",
       "  <th>cp[T.atypical angina]</th>       <td>   -0.3333</td> <td>    0.173</td> <td>   -1.922</td> <td> 0.058</td> <td>   -0.679</td> <td>    0.012</td>\n",
       "</tr>\n",
       "<tr>\n",
       "  <th>cp[T.non-anginal]</th>           <td>   -0.4553</td> <td>    0.151</td> <td>   -3.013</td> <td> 0.003</td> <td>   -0.756</td> <td>   -0.154</td>\n",
       "</tr>\n",
       "<tr>\n",
       "  <th>cp[T.typical angina]</th>        <td>   -0.6486</td> <td>    0.312</td> <td>   -2.079</td> <td> 0.041</td> <td>   -1.270</td> <td>   -0.027</td>\n",
       "</tr>\n",
       "<tr>\n",
       "  <th>fbs[T.True]</th>                 <td>    0.3791</td> <td>    0.192</td> <td>    1.970</td> <td> 0.052</td> <td>   -0.004</td> <td>    0.762</td>\n",
       "</tr>\n",
       "<tr>\n",
       "  <th>restecg[T.normal]</th>           <td>   -0.1163</td> <td>    0.122</td> <td>   -0.957</td> <td> 0.341</td> <td>   -0.358</td> <td>    0.126</td>\n",
       "</tr>\n",
       "<tr>\n",
       "  <th>restecg[T.st-t abnormality]</th> <td>    0.8197</td> <td>    0.369</td> <td>    2.221</td> <td> 0.029</td> <td>    0.085</td> <td>    1.554</td>\n",
       "</tr>\n",
       "<tr>\n",
       "  <th>exang[T.True]</th>               <td>   -0.0759</td> <td>    0.166</td> <td>   -0.457</td> <td> 0.649</td> <td>   -0.406</td> <td>    0.255</td>\n",
       "</tr>\n",
       "<tr>\n",
       "  <th>slope[T.flat]</th>               <td>   -0.1480</td> <td>    0.344</td> <td>   -0.431</td> <td> 0.668</td> <td>   -0.832</td> <td>    0.536</td>\n",
       "</tr>\n",
       "<tr>\n",
       "  <th>slope[T.upsloping]</th>          <td>   -0.3157</td> <td>    0.378</td> <td>   -0.834</td> <td> 0.407</td> <td>   -1.069</td> <td>    0.438</td>\n",
       "</tr>\n",
       "<tr>\n",
       "  <th>thal[T.normal]</th>              <td>    0.0040</td> <td>    0.615</td> <td>    0.006</td> <td> 0.995</td> <td>   -1.220</td> <td>    1.227</td>\n",
       "</tr>\n",
       "<tr>\n",
       "  <th>thal[T.reversable defect]</th>   <td>    1.1523</td> <td>    0.598</td> <td>    1.927</td> <td> 0.058</td> <td>   -0.038</td> <td>    2.343</td>\n",
       "</tr>\n",
       "<tr>\n",
       "  <th>age</th>                         <td>   -0.0105</td> <td>    0.008</td> <td>   -1.349</td> <td> 0.181</td> <td>   -0.026</td> <td>    0.005</td>\n",
       "</tr>\n",
       "<tr>\n",
       "  <th>trestbps</th>                    <td>    0.0064</td> <td>    0.003</td> <td>    1.849</td> <td> 0.068</td> <td>   -0.000</td> <td>    0.013</td>\n",
       "</tr>\n",
       "<tr>\n",
       "  <th>chol</th>                        <td>   -0.0007</td> <td>    0.001</td> <td>   -0.676</td> <td> 0.501</td> <td>   -0.003</td> <td>    0.001</td>\n",
       "</tr>\n",
       "<tr>\n",
       "  <th>thalch</th>                      <td>    0.0019</td> <td>    0.004</td> <td>    0.512</td> <td> 0.610</td> <td>   -0.005</td> <td>    0.009</td>\n",
       "</tr>\n",
       "<tr>\n",
       "  <th>oldpeak</th>                     <td>    0.0645</td> <td>    0.085</td> <td>    0.755</td> <td> 0.452</td> <td>   -0.106</td> <td>    0.235</td>\n",
       "</tr>\n",
       "<tr>\n",
       "  <th>ca</th>                          <td>    0.4555</td> <td>    0.084</td> <td>    5.406</td> <td> 0.000</td> <td>    0.288</td> <td>    0.623</td>\n",
       "</tr>\n",
       "</table>\n",
       "<table class=\"simpletable\">\n",
       "<tr>\n",
       "  <th>Omnibus:</th>       <td>17.736</td> <th>  Durbin-Watson:     </th> <td>   2.334</td>\n",
       "</tr>\n",
       "<tr>\n",
       "  <th>Prob(Omnibus):</th> <td> 0.000</td> <th>  Jarque-Bera (JB):  </th> <td>  25.196</td>\n",
       "</tr>\n",
       "<tr>\n",
       "  <th>Skew:</th>          <td> 0.851</td> <th>  Prob(JB):          </th> <td>3.38e-06</td>\n",
       "</tr>\n",
       "<tr>\n",
       "  <th>Kurtosis:</th>      <td> 4.845</td> <th>  Cond. No.          </th> <td>1.10e+19</td>\n",
       "</tr>\n",
       "</table><br/><br/>Notes:<br/>[1] Standard Errors assume that the covariance matrix of the errors is correctly specified.<br/>[2] The smallest eigenvalue is 9.19e-32. This might indicate that there are<br/>strong multicollinearity problems or that the design matrix is singular."
      ],
      "text/plain": [
       "<class 'statsmodels.iolib.summary.Summary'>\n",
       "\"\"\"\n",
       "                            OLS Regression Results                            \n",
       "==============================================================================\n",
       "Dep. Variable:                    num   R-squared:                       0.789\n",
       "Model:                            OLS   Adj. R-squared:                  0.743\n",
       "Method:                 Least Squares   F-statistic:                     17.17\n",
       "Date:                Thu, 09 Mar 2023   Prob (F-statistic):           1.02e-19\n",
       "Time:                        20:04:26   Log-Likelihood:                -65.278\n",
       "No. Observations:                  96   AIC:                             166.6\n",
       "Df Residuals:                      78   BIC:                             212.7\n",
       "Df Model:                          17                                         \n",
       "Covariance Type:            nonrobust                                         \n",
       "===============================================================================================\n",
       "                                  coef    std err          t      P>|t|      [0.025      0.975]\n",
       "-----------------------------------------------------------------------------------------------\n",
       "Intercept                       0.1511      1.151      0.131      0.896      -2.140       2.442\n",
       "dataset[T.Hungary]          -1.507e-14   1.02e-13     -0.147      0.883   -2.19e-13    1.89e-13\n",
       "dataset[T.Switzerland]          -3e-15   5.17e-15     -0.580      0.563   -1.33e-14    7.29e-15\n",
       "dataset[T.VA Long Beach]     2.216e-15   1.54e-15      1.439      0.154    -8.5e-16    5.28e-15\n",
       "cp[T.atypical angina]          -0.3333      0.173     -1.922      0.058      -0.679       0.012\n",
       "cp[T.non-anginal]              -0.4553      0.151     -3.013      0.003      -0.756      -0.154\n",
       "cp[T.typical angina]           -0.6486      0.312     -2.079      0.041      -1.270      -0.027\n",
       "fbs[T.True]                     0.3791      0.192      1.970      0.052      -0.004       0.762\n",
       "restecg[T.normal]              -0.1163      0.122     -0.957      0.341      -0.358       0.126\n",
       "restecg[T.st-t abnormality]     0.8197      0.369      2.221      0.029       0.085       1.554\n",
       "exang[T.True]                  -0.0759      0.166     -0.457      0.649      -0.406       0.255\n",
       "slope[T.flat]                  -0.1480      0.344     -0.431      0.668      -0.832       0.536\n",
       "slope[T.upsloping]             -0.3157      0.378     -0.834      0.407      -1.069       0.438\n",
       "thal[T.normal]                  0.0040      0.615      0.006      0.995      -1.220       1.227\n",
       "thal[T.reversable defect]       1.1523      0.598      1.927      0.058      -0.038       2.343\n",
       "age                            -0.0105      0.008     -1.349      0.181      -0.026       0.005\n",
       "trestbps                        0.0064      0.003      1.849      0.068      -0.000       0.013\n",
       "chol                           -0.0007      0.001     -0.676      0.501      -0.003       0.001\n",
       "thalch                          0.0019      0.004      0.512      0.610      -0.005       0.009\n",
       "oldpeak                         0.0645      0.085      0.755      0.452      -0.106       0.235\n",
       "ca                              0.4555      0.084      5.406      0.000       0.288       0.623\n",
       "==============================================================================\n",
       "Omnibus:                       17.736   Durbin-Watson:                   2.334\n",
       "Prob(Omnibus):                  0.000   Jarque-Bera (JB):               25.196\n",
       "Skew:                           0.851   Prob(JB):                     3.38e-06\n",
       "Kurtosis:                       4.845   Cond. No.                     1.10e+19\n",
       "==============================================================================\n",
       "\n",
       "Notes:\n",
       "[1] Standard Errors assume that the covariance matrix of the errors is correctly specified.\n",
       "[2] The smallest eigenvalue is 9.19e-32. This might indicate that there are\n",
       "strong multicollinearity problems or that the design matrix is singular.\n",
       "\"\"\""
      ]
     },
     "execution_count": 12,
     "metadata": {},
     "output_type": "execute_result"
    }
   ],
   "source": [
    "m = smf.ols(\"num ~ age + sex + dataset + cp + trestbps + chol + fbs + restecg + thalch + exang + oldpeak + slope + ca + thal\", data = female).fit()\n",
    "m.summary()"
   ]
  },
  {
   "cell_type": "code",
   "execution_count": 13,
   "metadata": {},
   "outputs": [
    {
     "data": {
      "text/html": [
       "<table class=\"simpletable\">\n",
       "<caption>OLS Regression Results</caption>\n",
       "<tr>\n",
       "  <th>Dep. Variable:</th>           <td>num</td>       <th>  R-squared:         </th> <td>   0.519</td>\n",
       "</tr>\n",
       "<tr>\n",
       "  <th>Model:</th>                   <td>OLS</td>       <th>  Adj. R-squared:    </th> <td>   0.469</td>\n",
       "</tr>\n",
       "<tr>\n",
       "  <th>Method:</th>             <td>Least Squares</td>  <th>  F-statistic:       </th> <td>   10.37</td>\n",
       "</tr>\n",
       "<tr>\n",
       "  <th>Date:</th>             <td>Thu, 09 Mar 2023</td> <th>  Prob (F-statistic):</th> <td>2.24e-20</td>\n",
       "</tr>\n",
       "<tr>\n",
       "  <th>Time:</th>                 <td>20:04:27</td>     <th>  Log-Likelihood:    </th> <td> -261.36</td>\n",
       "</tr>\n",
       "<tr>\n",
       "  <th>No. Observations:</th>      <td>   203</td>      <th>  AIC:               </th> <td>   562.7</td>\n",
       "</tr>\n",
       "<tr>\n",
       "  <th>Df Residuals:</th>          <td>   183</td>      <th>  BIC:               </th> <td>   629.0</td>\n",
       "</tr>\n",
       "<tr>\n",
       "  <th>Df Model:</th>              <td>    19</td>      <th>                     </th>     <td> </td>   \n",
       "</tr>\n",
       "<tr>\n",
       "  <th>Covariance Type:</th>      <td>nonrobust</td>    <th>                     </th>     <td> </td>   \n",
       "</tr>\n",
       "</table>\n",
       "<table class=\"simpletable\">\n",
       "<tr>\n",
       "               <td></td>                  <th>coef</th>     <th>std err</th>      <th>t</th>      <th>P>|t|</th>  <th>[0.025</th>    <th>0.975]</th>  \n",
       "</tr>\n",
       "<tr>\n",
       "  <th>Intercept</th>                   <td>    1.3544</td> <td>    1.013</td> <td>    1.337</td> <td> 0.183</td> <td>   -0.644</td> <td>    3.353</td>\n",
       "</tr>\n",
       "<tr>\n",
       "  <th>dataset[T.Hungary]</th>          <td>   -1.0090</td> <td>    0.958</td> <td>   -1.053</td> <td> 0.294</td> <td>   -2.899</td> <td>    0.881</td>\n",
       "</tr>\n",
       "<tr>\n",
       "  <th>dataset[T.Switzerland]</th>      <td> 8.277e-15</td> <td> 5.97e-15</td> <td>    1.386</td> <td> 0.168</td> <td>-3.51e-15</td> <td> 2.01e-14</td>\n",
       "</tr>\n",
       "<tr>\n",
       "  <th>dataset[T.VA Long Beach]</th>    <td>   -0.7691</td> <td>    0.969</td> <td>   -0.794</td> <td> 0.428</td> <td>   -2.680</td> <td>    1.142</td>\n",
       "</tr>\n",
       "<tr>\n",
       "  <th>cp[T.atypical angina]</th>       <td>   -0.3249</td> <td>    0.224</td> <td>   -1.451</td> <td> 0.148</td> <td>   -0.767</td> <td>    0.117</td>\n",
       "</tr>\n",
       "<tr>\n",
       "  <th>cp[T.non-anginal]</th>           <td>   -0.5286</td> <td>    0.186</td> <td>   -2.845</td> <td> 0.005</td> <td>   -0.895</td> <td>   -0.162</td>\n",
       "</tr>\n",
       "<tr>\n",
       "  <th>cp[T.typical angina]</th>        <td>   -0.7574</td> <td>    0.253</td> <td>   -2.994</td> <td> 0.003</td> <td>   -1.257</td> <td>   -0.258</td>\n",
       "</tr>\n",
       "<tr>\n",
       "  <th>fbs[T.True]</th>                 <td>   -0.0631</td> <td>    0.194</td> <td>   -0.325</td> <td> 0.746</td> <td>   -0.446</td> <td>    0.320</td>\n",
       "</tr>\n",
       "<tr>\n",
       "  <th>restecg[T.normal]</th>           <td>   -0.2074</td> <td>    0.140</td> <td>   -1.487</td> <td> 0.139</td> <td>   -0.483</td> <td>    0.068</td>\n",
       "</tr>\n",
       "<tr>\n",
       "  <th>restecg[T.st-t abnormality]</th> <td>    1.4120</td> <td>    1.043</td> <td>    1.354</td> <td> 0.178</td> <td>   -0.646</td> <td>    3.470</td>\n",
       "</tr>\n",
       "<tr>\n",
       "  <th>exang[T.True]</th>               <td>    0.1990</td> <td>    0.166</td> <td>    1.196</td> <td> 0.233</td> <td>   -0.129</td> <td>    0.527</td>\n",
       "</tr>\n",
       "<tr>\n",
       "  <th>slope[T.flat]</th>               <td>    0.1423</td> <td>    0.278</td> <td>    0.513</td> <td> 0.609</td> <td>   -0.405</td> <td>    0.690</td>\n",
       "</tr>\n",
       "<tr>\n",
       "  <th>slope[T.upsloping]</th>          <td>   -0.2499</td> <td>    0.307</td> <td>   -0.815</td> <td> 0.416</td> <td>   -0.855</td> <td>    0.355</td>\n",
       "</tr>\n",
       "<tr>\n",
       "  <th>thal[T.normal]</th>              <td>    0.0119</td> <td>    0.276</td> <td>    0.043</td> <td> 0.966</td> <td>   -0.532</td> <td>    0.555</td>\n",
       "</tr>\n",
       "<tr>\n",
       "  <th>thal[T.reversable defect]</th>   <td>    0.4367</td> <td>    0.259</td> <td>    1.687</td> <td> 0.093</td> <td>   -0.074</td> <td>    0.948</td>\n",
       "</tr>\n",
       "<tr>\n",
       "  <th>age</th>                         <td>   -0.0044</td> <td>    0.009</td> <td>   -0.492</td> <td> 0.623</td> <td>   -0.022</td> <td>    0.013</td>\n",
       "</tr>\n",
       "<tr>\n",
       "  <th>trestbps</th>                    <td>    0.0043</td> <td>    0.004</td> <td>    0.991</td> <td> 0.323</td> <td>   -0.004</td> <td>    0.013</td>\n",
       "</tr>\n",
       "<tr>\n",
       "  <th>chol</th>                        <td>   -0.0004</td> <td>    0.002</td> <td>   -0.229</td> <td> 0.819</td> <td>   -0.004</td> <td>    0.003</td>\n",
       "</tr>\n",
       "<tr>\n",
       "  <th>thalch</th>                      <td>   -0.0054</td> <td>    0.004</td> <td>   -1.457</td> <td> 0.147</td> <td>   -0.013</td> <td>    0.002</td>\n",
       "</tr>\n",
       "<tr>\n",
       "  <th>oldpeak</th>                     <td>    0.1810</td> <td>    0.075</td> <td>    2.414</td> <td> 0.017</td> <td>    0.033</td> <td>    0.329</td>\n",
       "</tr>\n",
       "<tr>\n",
       "  <th>ca</th>                          <td>    0.3632</td> <td>    0.081</td> <td>    4.471</td> <td> 0.000</td> <td>    0.203</td> <td>    0.523</td>\n",
       "</tr>\n",
       "</table>\n",
       "<table class=\"simpletable\">\n",
       "<tr>\n",
       "  <th>Omnibus:</th>       <td> 8.662</td> <th>  Durbin-Watson:     </th> <td>   2.032</td>\n",
       "</tr>\n",
       "<tr>\n",
       "  <th>Prob(Omnibus):</th> <td> 0.013</td> <th>  Jarque-Bera (JB):  </th> <td>   8.580</td>\n",
       "</tr>\n",
       "<tr>\n",
       "  <th>Skew:</th>          <td> 0.450</td> <th>  Prob(JB):          </th> <td>  0.0137</td>\n",
       "</tr>\n",
       "<tr>\n",
       "  <th>Kurtosis:</th>      <td> 3.453</td> <th>  Cond. No.          </th> <td>8.07e+17</td>\n",
       "</tr>\n",
       "</table><br/><br/>Notes:<br/>[1] Standard Errors assume that the covariance matrix of the errors is correctly specified.<br/>[2] The smallest eigenvalue is 3.14e-29. This might indicate that there are<br/>strong multicollinearity problems or that the design matrix is singular."
      ],
      "text/plain": [
       "<class 'statsmodels.iolib.summary.Summary'>\n",
       "\"\"\"\n",
       "                            OLS Regression Results                            \n",
       "==============================================================================\n",
       "Dep. Variable:                    num   R-squared:                       0.519\n",
       "Model:                            OLS   Adj. R-squared:                  0.469\n",
       "Method:                 Least Squares   F-statistic:                     10.37\n",
       "Date:                Thu, 09 Mar 2023   Prob (F-statistic):           2.24e-20\n",
       "Time:                        20:04:27   Log-Likelihood:                -261.36\n",
       "No. Observations:                 203   AIC:                             562.7\n",
       "Df Residuals:                     183   BIC:                             629.0\n",
       "Df Model:                          19                                         \n",
       "Covariance Type:            nonrobust                                         \n",
       "===============================================================================================\n",
       "                                  coef    std err          t      P>|t|      [0.025      0.975]\n",
       "-----------------------------------------------------------------------------------------------\n",
       "Intercept                       1.3544      1.013      1.337      0.183      -0.644       3.353\n",
       "dataset[T.Hungary]             -1.0090      0.958     -1.053      0.294      -2.899       0.881\n",
       "dataset[T.Switzerland]       8.277e-15   5.97e-15      1.386      0.168   -3.51e-15    2.01e-14\n",
       "dataset[T.VA Long Beach]       -0.7691      0.969     -0.794      0.428      -2.680       1.142\n",
       "cp[T.atypical angina]          -0.3249      0.224     -1.451      0.148      -0.767       0.117\n",
       "cp[T.non-anginal]              -0.5286      0.186     -2.845      0.005      -0.895      -0.162\n",
       "cp[T.typical angina]           -0.7574      0.253     -2.994      0.003      -1.257      -0.258\n",
       "fbs[T.True]                    -0.0631      0.194     -0.325      0.746      -0.446       0.320\n",
       "restecg[T.normal]              -0.2074      0.140     -1.487      0.139      -0.483       0.068\n",
       "restecg[T.st-t abnormality]     1.4120      1.043      1.354      0.178      -0.646       3.470\n",
       "exang[T.True]                   0.1990      0.166      1.196      0.233      -0.129       0.527\n",
       "slope[T.flat]                   0.1423      0.278      0.513      0.609      -0.405       0.690\n",
       "slope[T.upsloping]             -0.2499      0.307     -0.815      0.416      -0.855       0.355\n",
       "thal[T.normal]                  0.0119      0.276      0.043      0.966      -0.532       0.555\n",
       "thal[T.reversable defect]       0.4367      0.259      1.687      0.093      -0.074       0.948\n",
       "age                            -0.0044      0.009     -0.492      0.623      -0.022       0.013\n",
       "trestbps                        0.0043      0.004      0.991      0.323      -0.004       0.013\n",
       "chol                           -0.0004      0.002     -0.229      0.819      -0.004       0.003\n",
       "thalch                         -0.0054      0.004     -1.457      0.147      -0.013       0.002\n",
       "oldpeak                         0.1810      0.075      2.414      0.017       0.033       0.329\n",
       "ca                              0.3632      0.081      4.471      0.000       0.203       0.523\n",
       "==============================================================================\n",
       "Omnibus:                        8.662   Durbin-Watson:                   2.032\n",
       "Prob(Omnibus):                  0.013   Jarque-Bera (JB):                8.580\n",
       "Skew:                           0.450   Prob(JB):                       0.0137\n",
       "Kurtosis:                       3.453   Cond. No.                     8.07e+17\n",
       "==============================================================================\n",
       "\n",
       "Notes:\n",
       "[1] Standard Errors assume that the covariance matrix of the errors is correctly specified.\n",
       "[2] The smallest eigenvalue is 3.14e-29. This might indicate that there are\n",
       "strong multicollinearity problems or that the design matrix is singular.\n",
       "\"\"\""
      ]
     },
     "execution_count": 13,
     "metadata": {},
     "output_type": "execute_result"
    }
   ],
   "source": [
    "m = smf.ols(\"num ~ age + sex + dataset + cp + trestbps + chol + fbs + restecg + thalch + exang + oldpeak + slope + ca + thal\", data = male).fit()\n",
    "m.summary()"
   ]
  },
  {
   "cell_type": "code",
   "execution_count": 14,
   "metadata": {},
   "outputs": [
    {
     "data": {
      "text/plain": [
       "(28, 77)"
      ]
     },
     "execution_count": 14,
     "metadata": {},
     "output_type": "execute_result"
    }
   ],
   "source": [
    "heart.age.min(), heart.age.max()"
   ]
  },
  {
   "cell_type": "code",
   "execution_count": 15,
   "metadata": {},
   "outputs": [
    {
     "data": {
      "text/plain": [
       "54    51\n",
       "58    43\n",
       "55    41\n",
       "56    38\n",
       "57    38\n",
       "52    36\n",
       "62    35\n",
       "51    35\n",
       "59    35\n",
       "53    33\n",
       "60    32\n",
       "61    31\n",
       "48    31\n",
       "63    30\n",
       "50    25\n",
       "41    24\n",
       "46    24\n",
       "43    24\n",
       "64    22\n",
       "49    22\n",
       "65    21\n",
       "44    19\n",
       "47    19\n",
       "45    18\n",
       "42    18\n",
       "38    16\n",
       "67    15\n",
       "39    15\n",
       "69    13\n",
       "40    13\n",
       "66    13\n",
       "35    11\n",
       "37    11\n",
       "68    10\n",
       "34     7\n",
       "70     7\n",
       "74     7\n",
       "36     6\n",
       "32     5\n",
       "71     5\n",
       "72     4\n",
       "29     3\n",
       "75     3\n",
       "31     2\n",
       "33     2\n",
       "76     2\n",
       "77     2\n",
       "30     1\n",
       "28     1\n",
       "73     1\n",
       "Name: age, dtype: int64"
      ]
     },
     "execution_count": 15,
     "metadata": {},
     "output_type": "execute_result"
    }
   ],
   "source": [
    "heart.age.value_counts()"
   ]
  },
  {
   "cell_type": "code",
   "execution_count": 16,
   "metadata": {},
   "outputs": [],
   "source": [
    "under55 = heart[heart.age < 55]\n",
    "above55 = heart[heart.age >= 55]"
   ]
  },
  {
   "cell_type": "code",
   "execution_count": 17,
   "metadata": {},
   "outputs": [
    {
     "data": {
      "text/html": [
       "<table class=\"simpletable\">\n",
       "<caption>OLS Regression Results</caption>\n",
       "<tr>\n",
       "  <th>Dep. Variable:</th>           <td>num</td>       <th>  R-squared:         </th> <td>   0.648</td>\n",
       "</tr>\n",
       "<tr>\n",
       "  <th>Model:</th>                   <td>OLS</td>       <th>  Adj. R-squared:    </th> <td>   0.595</td>\n",
       "</tr>\n",
       "<tr>\n",
       "  <th>Method:</th>             <td>Least Squares</td>  <th>  F-statistic:       </th> <td>   12.25</td>\n",
       "</tr>\n",
       "<tr>\n",
       "  <th>Date:</th>             <td>Thu, 09 Mar 2023</td> <th>  Prob (F-statistic):</th> <td>1.63e-19</td>\n",
       "</tr>\n",
       "<tr>\n",
       "  <th>Time:</th>                 <td>20:04:27</td>     <th>  Log-Likelihood:    </th> <td> -132.42</td>\n",
       "</tr>\n",
       "<tr>\n",
       "  <th>No. Observations:</th>      <td>   139</td>      <th>  AIC:               </th> <td>   302.8</td>\n",
       "</tr>\n",
       "<tr>\n",
       "  <th>Df Residuals:</th>          <td>   120</td>      <th>  BIC:               </th> <td>   358.6</td>\n",
       "</tr>\n",
       "<tr>\n",
       "  <th>Df Model:</th>              <td>    18</td>      <th>                     </th>     <td> </td>   \n",
       "</tr>\n",
       "<tr>\n",
       "  <th>Covariance Type:</th>      <td>nonrobust</td>    <th>                     </th>     <td> </td>   \n",
       "</tr>\n",
       "</table>\n",
       "<table class=\"simpletable\">\n",
       "<tr>\n",
       "               <td></td>                  <th>coef</th>     <th>std err</th>      <th>t</th>      <th>P>|t|</th>  <th>[0.025</th>    <th>0.975]</th>  \n",
       "</tr>\n",
       "<tr>\n",
       "  <th>Intercept</th>                   <td>    1.8721</td> <td>    1.064</td> <td>    1.760</td> <td> 0.081</td> <td>   -0.234</td> <td>    3.978</td>\n",
       "</tr>\n",
       "<tr>\n",
       "  <th>sex[T.Male]</th>                 <td>    0.1644</td> <td>    0.148</td> <td>    1.112</td> <td> 0.268</td> <td>   -0.128</td> <td>    0.457</td>\n",
       "</tr>\n",
       "<tr>\n",
       "  <th>dataset[T.Hungary]</th>          <td>   -0.9490</td> <td>    0.726</td> <td>   -1.307</td> <td> 0.194</td> <td>   -2.387</td> <td>    0.489</td>\n",
       "</tr>\n",
       "<tr>\n",
       "  <th>dataset[T.Switzerland]</th>      <td>-9.834e-15</td> <td> 5.39e-15</td> <td>   -1.825</td> <td> 0.071</td> <td>-2.05e-14</td> <td> 8.36e-16</td>\n",
       "</tr>\n",
       "<tr>\n",
       "  <th>dataset[T.VA Long Beach]</th>    <td> -1.44e-14</td> <td> 7.12e-15</td> <td>   -2.023</td> <td> 0.045</td> <td>-2.85e-14</td> <td>-3.09e-16</td>\n",
       "</tr>\n",
       "<tr>\n",
       "  <th>cp[T.atypical angina]</th>       <td>   -0.3627</td> <td>    0.185</td> <td>   -1.960</td> <td> 0.052</td> <td>   -0.729</td> <td>    0.004</td>\n",
       "</tr>\n",
       "<tr>\n",
       "  <th>cp[T.non-anginal]</th>           <td>   -0.4764</td> <td>    0.163</td> <td>   -2.923</td> <td> 0.004</td> <td>   -0.799</td> <td>   -0.154</td>\n",
       "</tr>\n",
       "<tr>\n",
       "  <th>cp[T.typical angina]</th>        <td>   -0.6543</td> <td>    0.272</td> <td>   -2.402</td> <td> 0.018</td> <td>   -1.194</td> <td>   -0.115</td>\n",
       "</tr>\n",
       "<tr>\n",
       "  <th>fbs[T.True]</th>                 <td>   -0.3338</td> <td>    0.204</td> <td>   -1.636</td> <td> 0.105</td> <td>   -0.738</td> <td>    0.070</td>\n",
       "</tr>\n",
       "<tr>\n",
       "  <th>restecg[T.normal]</th>           <td>   -0.1137</td> <td>    0.127</td> <td>   -0.894</td> <td> 0.373</td> <td>   -0.366</td> <td>    0.138</td>\n",
       "</tr>\n",
       "<tr>\n",
       "  <th>restecg[T.st-t abnormality]</th> <td>-2.323e-16</td> <td> 3.52e-16</td> <td>   -0.660</td> <td> 0.511</td> <td>-9.29e-16</td> <td> 4.65e-16</td>\n",
       "</tr>\n",
       "<tr>\n",
       "  <th>exang[T.True]</th>               <td>    0.0937</td> <td>    0.167</td> <td>    0.560</td> <td> 0.577</td> <td>   -0.238</td> <td>    0.425</td>\n",
       "</tr>\n",
       "<tr>\n",
       "  <th>slope[T.flat]</th>               <td>    0.4416</td> <td>    0.289</td> <td>    1.529</td> <td> 0.129</td> <td>   -0.130</td> <td>    1.014</td>\n",
       "</tr>\n",
       "<tr>\n",
       "  <th>slope[T.upsloping]</th>          <td>    0.0881</td> <td>    0.296</td> <td>    0.297</td> <td> 0.767</td> <td>   -0.498</td> <td>    0.674</td>\n",
       "</tr>\n",
       "<tr>\n",
       "  <th>thal[T.normal]</th>              <td>   -0.3918</td> <td>    0.383</td> <td>   -1.024</td> <td> 0.308</td> <td>   -1.149</td> <td>    0.366</td>\n",
       "</tr>\n",
       "<tr>\n",
       "  <th>thal[T.reversable defect]</th>   <td>    0.3672</td> <td>    0.370</td> <td>    0.991</td> <td> 0.323</td> <td>   -0.366</td> <td>    1.101</td>\n",
       "</tr>\n",
       "<tr>\n",
       "  <th>age</th>                         <td>   -0.0138</td> <td>    0.012</td> <td>   -1.150</td> <td> 0.253</td> <td>   -0.038</td> <td>    0.010</td>\n",
       "</tr>\n",
       "<tr>\n",
       "  <th>trestbps</th>                    <td>   -0.0012</td> <td>    0.004</td> <td>   -0.283</td> <td> 0.778</td> <td>   -0.010</td> <td>    0.007</td>\n",
       "</tr>\n",
       "<tr>\n",
       "  <th>chol</th>                        <td>   -0.0003</td> <td>    0.001</td> <td>   -0.194</td> <td> 0.847</td> <td>   -0.003</td> <td>    0.003</td>\n",
       "</tr>\n",
       "<tr>\n",
       "  <th>thalch</th>                      <td>   -0.0035</td> <td>    0.004</td> <td>   -0.899</td> <td> 0.370</td> <td>   -0.011</td> <td>    0.004</td>\n",
       "</tr>\n",
       "<tr>\n",
       "  <th>oldpeak</th>                     <td>    0.2420</td> <td>    0.077</td> <td>    3.133</td> <td> 0.002</td> <td>    0.089</td> <td>    0.395</td>\n",
       "</tr>\n",
       "<tr>\n",
       "  <th>ca</th>                          <td>    0.3394</td> <td>    0.084</td> <td>    4.046</td> <td> 0.000</td> <td>    0.173</td> <td>    0.506</td>\n",
       "</tr>\n",
       "</table>\n",
       "<table class=\"simpletable\">\n",
       "<tr>\n",
       "  <th>Omnibus:</th>       <td>17.521</td> <th>  Durbin-Watson:     </th> <td>   1.892</td>\n",
       "</tr>\n",
       "<tr>\n",
       "  <th>Prob(Omnibus):</th> <td> 0.000</td> <th>  Jarque-Bera (JB):  </th> <td>  28.345</td>\n",
       "</tr>\n",
       "<tr>\n",
       "  <th>Skew:</th>          <td> 0.622</td> <th>  Prob(JB):          </th> <td>7.00e-07</td>\n",
       "</tr>\n",
       "<tr>\n",
       "  <th>Kurtosis:</th>      <td> 4.829</td> <th>  Cond. No.          </th> <td>1.42e+22</td>\n",
       "</tr>\n",
       "</table><br/><br/>Notes:<br/>[1] Standard Errors assume that the covariance matrix of the errors is correctly specified.<br/>[2] The smallest eigenvalue is 6.94e-38. This might indicate that there are<br/>strong multicollinearity problems or that the design matrix is singular."
      ],
      "text/plain": [
       "<class 'statsmodels.iolib.summary.Summary'>\n",
       "\"\"\"\n",
       "                            OLS Regression Results                            \n",
       "==============================================================================\n",
       "Dep. Variable:                    num   R-squared:                       0.648\n",
       "Model:                            OLS   Adj. R-squared:                  0.595\n",
       "Method:                 Least Squares   F-statistic:                     12.25\n",
       "Date:                Thu, 09 Mar 2023   Prob (F-statistic):           1.63e-19\n",
       "Time:                        20:04:27   Log-Likelihood:                -132.42\n",
       "No. Observations:                 139   AIC:                             302.8\n",
       "Df Residuals:                     120   BIC:                             358.6\n",
       "Df Model:                          18                                         \n",
       "Covariance Type:            nonrobust                                         \n",
       "===============================================================================================\n",
       "                                  coef    std err          t      P>|t|      [0.025      0.975]\n",
       "-----------------------------------------------------------------------------------------------\n",
       "Intercept                       1.8721      1.064      1.760      0.081      -0.234       3.978\n",
       "sex[T.Male]                     0.1644      0.148      1.112      0.268      -0.128       0.457\n",
       "dataset[T.Hungary]             -0.9490      0.726     -1.307      0.194      -2.387       0.489\n",
       "dataset[T.Switzerland]      -9.834e-15   5.39e-15     -1.825      0.071   -2.05e-14    8.36e-16\n",
       "dataset[T.VA Long Beach]     -1.44e-14   7.12e-15     -2.023      0.045   -2.85e-14   -3.09e-16\n",
       "cp[T.atypical angina]          -0.3627      0.185     -1.960      0.052      -0.729       0.004\n",
       "cp[T.non-anginal]              -0.4764      0.163     -2.923      0.004      -0.799      -0.154\n",
       "cp[T.typical angina]           -0.6543      0.272     -2.402      0.018      -1.194      -0.115\n",
       "fbs[T.True]                    -0.3338      0.204     -1.636      0.105      -0.738       0.070\n",
       "restecg[T.normal]              -0.1137      0.127     -0.894      0.373      -0.366       0.138\n",
       "restecg[T.st-t abnormality] -2.323e-16   3.52e-16     -0.660      0.511   -9.29e-16    4.65e-16\n",
       "exang[T.True]                   0.0937      0.167      0.560      0.577      -0.238       0.425\n",
       "slope[T.flat]                   0.4416      0.289      1.529      0.129      -0.130       1.014\n",
       "slope[T.upsloping]              0.0881      0.296      0.297      0.767      -0.498       0.674\n",
       "thal[T.normal]                 -0.3918      0.383     -1.024      0.308      -1.149       0.366\n",
       "thal[T.reversable defect]       0.3672      0.370      0.991      0.323      -0.366       1.101\n",
       "age                            -0.0138      0.012     -1.150      0.253      -0.038       0.010\n",
       "trestbps                       -0.0012      0.004     -0.283      0.778      -0.010       0.007\n",
       "chol                           -0.0003      0.001     -0.194      0.847      -0.003       0.003\n",
       "thalch                         -0.0035      0.004     -0.899      0.370      -0.011       0.004\n",
       "oldpeak                         0.2420      0.077      3.133      0.002       0.089       0.395\n",
       "ca                              0.3394      0.084      4.046      0.000       0.173       0.506\n",
       "==============================================================================\n",
       "Omnibus:                       17.521   Durbin-Watson:                   1.892\n",
       "Prob(Omnibus):                  0.000   Jarque-Bera (JB):               28.345\n",
       "Skew:                           0.622   Prob(JB):                     7.00e-07\n",
       "Kurtosis:                       4.829   Cond. No.                     1.42e+22\n",
       "==============================================================================\n",
       "\n",
       "Notes:\n",
       "[1] Standard Errors assume that the covariance matrix of the errors is correctly specified.\n",
       "[2] The smallest eigenvalue is 6.94e-38. This might indicate that there are\n",
       "strong multicollinearity problems or that the design matrix is singular.\n",
       "\"\"\""
      ]
     },
     "execution_count": 17,
     "metadata": {},
     "output_type": "execute_result"
    }
   ],
   "source": [
    "m = smf.ols(\"num ~ age + sex + dataset + cp + trestbps + chol + fbs + restecg + thalch + exang + oldpeak + slope + ca + thal\", data = under55).fit()\n",
    "m.summary()"
   ]
  },
  {
   "cell_type": "code",
   "execution_count": 18,
   "metadata": {},
   "outputs": [
    {
     "data": {
      "text/html": [
       "<table class=\"simpletable\">\n",
       "<caption>OLS Regression Results</caption>\n",
       "<tr>\n",
       "  <th>Dep. Variable:</th>           <td>num</td>       <th>  R-squared:         </th> <td>   0.556</td>\n",
       "</tr>\n",
       "<tr>\n",
       "  <th>Model:</th>                   <td>OLS</td>       <th>  Adj. R-squared:    </th> <td>   0.496</td>\n",
       "</tr>\n",
       "<tr>\n",
       "  <th>Method:</th>             <td>Least Squares</td>  <th>  F-statistic:       </th> <td>   9.235</td>\n",
       "</tr>\n",
       "<tr>\n",
       "  <th>Date:</th>             <td>Thu, 09 Mar 2023</td> <th>  Prob (F-statistic):</th> <td>1.06e-16</td>\n",
       "</tr>\n",
       "<tr>\n",
       "  <th>Time:</th>                 <td>20:04:27</td>     <th>  Log-Likelihood:    </th> <td> -202.55</td>\n",
       "</tr>\n",
       "<tr>\n",
       "  <th>No. Observations:</th>      <td>   160</td>      <th>  AIC:               </th> <td>   445.1</td>\n",
       "</tr>\n",
       "<tr>\n",
       "  <th>Df Residuals:</th>          <td>   140</td>      <th>  BIC:               </th> <td>   506.6</td>\n",
       "</tr>\n",
       "<tr>\n",
       "  <th>Df Model:</th>              <td>    19</td>      <th>                     </th>     <td> </td>   \n",
       "</tr>\n",
       "<tr>\n",
       "  <th>Covariance Type:</th>      <td>nonrobust</td>    <th>                     </th>     <td> </td>   \n",
       "</tr>\n",
       "</table>\n",
       "<table class=\"simpletable\">\n",
       "<tr>\n",
       "               <td></td>                  <th>coef</th>     <th>std err</th>      <th>t</th>      <th>P>|t|</th>  <th>[0.025</th>    <th>0.975]</th>  \n",
       "</tr>\n",
       "<tr>\n",
       "  <th>Intercept</th>                   <td>    1.1936</td> <td>    1.530</td> <td>    0.780</td> <td> 0.437</td> <td>   -1.831</td> <td>    4.218</td>\n",
       "</tr>\n",
       "<tr>\n",
       "  <th>sex[T.Male]</th>                 <td>    0.3514</td> <td>    0.186</td> <td>    1.888</td> <td> 0.061</td> <td>   -0.017</td> <td>    0.719</td>\n",
       "</tr>\n",
       "<tr>\n",
       "  <th>dataset[T.Hungary]</th>          <td>   4.2e-15</td> <td>  3.7e-15</td> <td>    1.135</td> <td> 0.258</td> <td>-3.12e-15</td> <td> 1.15e-14</td>\n",
       "</tr>\n",
       "<tr>\n",
       "  <th>dataset[T.Switzerland]</th>      <td> 1.293e-14</td> <td> 1.41e-14</td> <td>    0.915</td> <td> 0.362</td> <td> -1.5e-14</td> <td> 4.09e-14</td>\n",
       "</tr>\n",
       "<tr>\n",
       "  <th>dataset[T.VA Long Beach]</th>    <td>   -0.3261</td> <td>    0.958</td> <td>   -0.340</td> <td> 0.734</td> <td>   -2.220</td> <td>    1.568</td>\n",
       "</tr>\n",
       "<tr>\n",
       "  <th>cp[T.atypical angina]</th>       <td>   -0.2937</td> <td>    0.258</td> <td>   -1.138</td> <td> 0.257</td> <td>   -0.804</td> <td>    0.217</td>\n",
       "</tr>\n",
       "<tr>\n",
       "  <th>cp[T.non-anginal]</th>           <td>   -0.3180</td> <td>    0.216</td> <td>   -1.476</td> <td> 0.142</td> <td>   -0.744</td> <td>    0.108</td>\n",
       "</tr>\n",
       "<tr>\n",
       "  <th>cp[T.typical angina]</th>        <td>   -0.8758</td> <td>    0.294</td> <td>   -2.974</td> <td> 0.003</td> <td>   -1.458</td> <td>   -0.294</td>\n",
       "</tr>\n",
       "<tr>\n",
       "  <th>fbs[T.True]</th>                 <td>    0.1707</td> <td>    0.209</td> <td>    0.816</td> <td> 0.416</td> <td>   -0.243</td> <td>    0.584</td>\n",
       "</tr>\n",
       "<tr>\n",
       "  <th>restecg[T.normal]</th>           <td>   -0.3139</td> <td>    0.159</td> <td>   -1.970</td> <td> 0.051</td> <td>   -0.629</td> <td>    0.001</td>\n",
       "</tr>\n",
       "<tr>\n",
       "  <th>restecg[T.st-t abnormality]</th> <td>    0.5879</td> <td>    0.492</td> <td>    1.196</td> <td> 0.234</td> <td>   -0.384</td> <td>    1.560</td>\n",
       "</tr>\n",
       "<tr>\n",
       "  <th>exang[T.True]</th>               <td>    0.2275</td> <td>    0.177</td> <td>    1.283</td> <td> 0.202</td> <td>   -0.123</td> <td>    0.578</td>\n",
       "</tr>\n",
       "<tr>\n",
       "  <th>slope[T.flat]</th>               <td>   -0.3934</td> <td>    0.318</td> <td>   -1.236</td> <td> 0.218</td> <td>   -1.023</td> <td>    0.236</td>\n",
       "</tr>\n",
       "<tr>\n",
       "  <th>slope[T.upsloping]</th>          <td>   -0.5849</td> <td>    0.368</td> <td>   -1.588</td> <td> 0.115</td> <td>   -1.313</td> <td>    0.143</td>\n",
       "</tr>\n",
       "<tr>\n",
       "  <th>thal[T.normal]</th>              <td>    0.1751</td> <td>    0.307</td> <td>    0.571</td> <td> 0.569</td> <td>   -0.431</td> <td>    0.781</td>\n",
       "</tr>\n",
       "<tr>\n",
       "  <th>thal[T.reversable defect]</th>   <td>    0.5238</td> <td>    0.280</td> <td>    1.868</td> <td> 0.064</td> <td>   -0.030</td> <td>    1.078</td>\n",
       "</tr>\n",
       "<tr>\n",
       "  <th>age</th>                         <td>   -0.0150</td> <td>    0.018</td> <td>   -0.844</td> <td> 0.400</td> <td>   -0.050</td> <td>    0.020</td>\n",
       "</tr>\n",
       "<tr>\n",
       "  <th>trestbps</th>                    <td>    0.0072</td> <td>    0.004</td> <td>    1.700</td> <td> 0.091</td> <td>   -0.001</td> <td>    0.016</td>\n",
       "</tr>\n",
       "<tr>\n",
       "  <th>chol</th>                        <td> -5.64e-05</td> <td>    0.001</td> <td>   -0.041</td> <td> 0.967</td> <td>   -0.003</td> <td>    0.003</td>\n",
       "</tr>\n",
       "<tr>\n",
       "  <th>thalch</th>                      <td>   -0.0037</td> <td>    0.004</td> <td>   -0.929</td> <td> 0.354</td> <td>   -0.012</td> <td>    0.004</td>\n",
       "</tr>\n",
       "<tr>\n",
       "  <th>oldpeak</th>                     <td>    0.1115</td> <td>    0.083</td> <td>    1.341</td> <td> 0.182</td> <td>   -0.053</td> <td>    0.276</td>\n",
       "</tr>\n",
       "<tr>\n",
       "  <th>ca</th>                          <td>    0.5074</td> <td>    0.089</td> <td>    5.683</td> <td> 0.000</td> <td>    0.331</td> <td>    0.684</td>\n",
       "</tr>\n",
       "</table>\n",
       "<table class=\"simpletable\">\n",
       "<tr>\n",
       "  <th>Omnibus:</th>       <td> 4.196</td> <th>  Durbin-Watson:     </th> <td>   1.814</td>\n",
       "</tr>\n",
       "<tr>\n",
       "  <th>Prob(Omnibus):</th> <td> 0.123</td> <th>  Jarque-Bera (JB):  </th> <td>   3.797</td>\n",
       "</tr>\n",
       "<tr>\n",
       "  <th>Skew:</th>          <td> 0.367</td> <th>  Prob(JB):          </th> <td>   0.150</td>\n",
       "</tr>\n",
       "<tr>\n",
       "  <th>Kurtosis:</th>      <td> 3.177</td> <th>  Cond. No.          </th> <td>4.09e+18</td>\n",
       "</tr>\n",
       "</table><br/><br/>Notes:<br/>[1] Standard Errors assume that the covariance matrix of the errors is correctly specified.<br/>[2] The smallest eigenvalue is 1.05e-30. This might indicate that there are<br/>strong multicollinearity problems or that the design matrix is singular."
      ],
      "text/plain": [
       "<class 'statsmodels.iolib.summary.Summary'>\n",
       "\"\"\"\n",
       "                            OLS Regression Results                            \n",
       "==============================================================================\n",
       "Dep. Variable:                    num   R-squared:                       0.556\n",
       "Model:                            OLS   Adj. R-squared:                  0.496\n",
       "Method:                 Least Squares   F-statistic:                     9.235\n",
       "Date:                Thu, 09 Mar 2023   Prob (F-statistic):           1.06e-16\n",
       "Time:                        20:04:27   Log-Likelihood:                -202.55\n",
       "No. Observations:                 160   AIC:                             445.1\n",
       "Df Residuals:                     140   BIC:                             506.6\n",
       "Df Model:                          19                                         \n",
       "Covariance Type:            nonrobust                                         \n",
       "===============================================================================================\n",
       "                                  coef    std err          t      P>|t|      [0.025      0.975]\n",
       "-----------------------------------------------------------------------------------------------\n",
       "Intercept                       1.1936      1.530      0.780      0.437      -1.831       4.218\n",
       "sex[T.Male]                     0.3514      0.186      1.888      0.061      -0.017       0.719\n",
       "dataset[T.Hungary]             4.2e-15    3.7e-15      1.135      0.258   -3.12e-15    1.15e-14\n",
       "dataset[T.Switzerland]       1.293e-14   1.41e-14      0.915      0.362    -1.5e-14    4.09e-14\n",
       "dataset[T.VA Long Beach]       -0.3261      0.958     -0.340      0.734      -2.220       1.568\n",
       "cp[T.atypical angina]          -0.2937      0.258     -1.138      0.257      -0.804       0.217\n",
       "cp[T.non-anginal]              -0.3180      0.216     -1.476      0.142      -0.744       0.108\n",
       "cp[T.typical angina]           -0.8758      0.294     -2.974      0.003      -1.458      -0.294\n",
       "fbs[T.True]                     0.1707      0.209      0.816      0.416      -0.243       0.584\n",
       "restecg[T.normal]              -0.3139      0.159     -1.970      0.051      -0.629       0.001\n",
       "restecg[T.st-t abnormality]     0.5879      0.492      1.196      0.234      -0.384       1.560\n",
       "exang[T.True]                   0.2275      0.177      1.283      0.202      -0.123       0.578\n",
       "slope[T.flat]                  -0.3934      0.318     -1.236      0.218      -1.023       0.236\n",
       "slope[T.upsloping]             -0.5849      0.368     -1.588      0.115      -1.313       0.143\n",
       "thal[T.normal]                  0.1751      0.307      0.571      0.569      -0.431       0.781\n",
       "thal[T.reversable defect]       0.5238      0.280      1.868      0.064      -0.030       1.078\n",
       "age                            -0.0150      0.018     -0.844      0.400      -0.050       0.020\n",
       "trestbps                        0.0072      0.004      1.700      0.091      -0.001       0.016\n",
       "chol                         -5.64e-05      0.001     -0.041      0.967      -0.003       0.003\n",
       "thalch                         -0.0037      0.004     -0.929      0.354      -0.012       0.004\n",
       "oldpeak                         0.1115      0.083      1.341      0.182      -0.053       0.276\n",
       "ca                              0.5074      0.089      5.683      0.000       0.331       0.684\n",
       "==============================================================================\n",
       "Omnibus:                        4.196   Durbin-Watson:                   1.814\n",
       "Prob(Omnibus):                  0.123   Jarque-Bera (JB):                3.797\n",
       "Skew:                           0.367   Prob(JB):                        0.150\n",
       "Kurtosis:                       3.177   Cond. No.                     4.09e+18\n",
       "==============================================================================\n",
       "\n",
       "Notes:\n",
       "[1] Standard Errors assume that the covariance matrix of the errors is correctly specified.\n",
       "[2] The smallest eigenvalue is 1.05e-30. This might indicate that there are\n",
       "strong multicollinearity problems or that the design matrix is singular.\n",
       "\"\"\""
      ]
     },
     "execution_count": 18,
     "metadata": {},
     "output_type": "execute_result"
    }
   ],
   "source": [
    "m = smf.ols(\"num ~ age + sex + dataset + cp + trestbps + chol + fbs + restecg + thalch + exang + oldpeak + slope + ca + thal\", data = above55).fit()\n",
    "m.summary()"
   ]
  },
  {
   "cell_type": "code",
   "execution_count": 78,
   "metadata": {},
   "outputs": [],
   "source": [
    "us = heart[(heart.dataset == 'VA Long Beach') | (heart.dataset == 'Cleveland')]\n",
    "europe = heart[(heart.dataset == 'Switzerland') | (heart.dataset == 'Hungary')]"
   ]
  },
  {
   "cell_type": "code",
   "execution_count": 20,
   "metadata": {},
   "outputs": [
    {
     "data": {
      "text/plain": [
       "((504, 16), (416, 16))"
      ]
     },
     "execution_count": 20,
     "metadata": {},
     "output_type": "execute_result"
    }
   ],
   "source": [
    "us.shape, europe.shape"
   ]
  },
  {
   "cell_type": "code",
   "execution_count": 21,
   "metadata": {},
   "outputs": [
    {
     "data": {
      "text/html": [
       "<table class=\"simpletable\">\n",
       "<caption>OLS Regression Results</caption>\n",
       "<tr>\n",
       "  <th>Dep. Variable:</th>           <td>num</td>       <th>  R-squared:         </th> <td>   0.585</td>\n",
       "</tr>\n",
       "<tr>\n",
       "  <th>Model:</th>                   <td>OLS</td>       <th>  Adj. R-squared:    </th> <td>   0.559</td>\n",
       "</tr>\n",
       "<tr>\n",
       "  <th>Method:</th>             <td>Least Squares</td>  <th>  F-statistic:       </th> <td>   21.89</td>\n",
       "</tr>\n",
       "<tr>\n",
       "  <th>Date:</th>             <td>Thu, 09 Mar 2023</td> <th>  Prob (F-statistic):</th> <td>2.98e-43</td>\n",
       "</tr>\n",
       "<tr>\n",
       "  <th>Time:</th>                 <td>20:04:28</td>     <th>  Log-Likelihood:    </th> <td> -353.44</td>\n",
       "</tr>\n",
       "<tr>\n",
       "  <th>No. Observations:</th>      <td>   298</td>      <th>  AIC:               </th> <td>   744.9</td>\n",
       "</tr>\n",
       "<tr>\n",
       "  <th>Df Residuals:</th>          <td>   279</td>      <th>  BIC:               </th> <td>   815.1</td>\n",
       "</tr>\n",
       "<tr>\n",
       "  <th>Df Model:</th>              <td>    18</td>      <th>                     </th>     <td> </td>   \n",
       "</tr>\n",
       "<tr>\n",
       "  <th>Covariance Type:</th>      <td>nonrobust</td>    <th>                     </th>     <td> </td>   \n",
       "</tr>\n",
       "</table>\n",
       "<table class=\"simpletable\">\n",
       "<tr>\n",
       "               <td></td>                  <th>coef</th>     <th>std err</th>      <th>t</th>      <th>P>|t|</th>  <th>[0.025</th>    <th>0.975]</th>  \n",
       "</tr>\n",
       "<tr>\n",
       "  <th>Intercept</th>                   <td>    1.0953</td> <td>    0.751</td> <td>    1.458</td> <td> 0.146</td> <td>   -0.384</td> <td>    2.574</td>\n",
       "</tr>\n",
       "<tr>\n",
       "  <th>sex[T.Male]</th>                 <td>    0.2177</td> <td>    0.118</td> <td>    1.850</td> <td> 0.065</td> <td>   -0.014</td> <td>    0.449</td>\n",
       "</tr>\n",
       "<tr>\n",
       "  <th>cp[T.atypical angina]</th>       <td>   -0.2855</td> <td>    0.157</td> <td>   -1.817</td> <td> 0.070</td> <td>   -0.595</td> <td>    0.024</td>\n",
       "</tr>\n",
       "<tr>\n",
       "  <th>cp[T.non-anginal]</th>           <td>   -0.4641</td> <td>    0.130</td> <td>   -3.564</td> <td> 0.000</td> <td>   -0.720</td> <td>   -0.208</td>\n",
       "</tr>\n",
       "<tr>\n",
       "  <th>cp[T.typical angina]</th>        <td>   -0.6981</td> <td>    0.198</td> <td>   -3.524</td> <td> 0.000</td> <td>   -1.088</td> <td>   -0.308</td>\n",
       "</tr>\n",
       "<tr>\n",
       "  <th>fbs[T.True]</th>                 <td>    0.0149</td> <td>    0.143</td> <td>    0.104</td> <td> 0.917</td> <td>   -0.267</td> <td>    0.297</td>\n",
       "</tr>\n",
       "<tr>\n",
       "  <th>restecg[T.normal]</th>           <td>   -0.1933</td> <td>    0.101</td> <td>   -1.922</td> <td> 0.056</td> <td>   -0.391</td> <td>    0.005</td>\n",
       "</tr>\n",
       "<tr>\n",
       "  <th>restecg[T.st-t abnormality]</th> <td>    0.5461</td> <td>    0.428</td> <td>    1.277</td> <td> 0.203</td> <td>   -0.296</td> <td>    1.388</td>\n",
       "</tr>\n",
       "<tr>\n",
       "  <th>exang[T.True]</th>               <td>    0.1668</td> <td>    0.121</td> <td>    1.376</td> <td> 0.170</td> <td>   -0.072</td> <td>    0.405</td>\n",
       "</tr>\n",
       "<tr>\n",
       "  <th>slope[T.flat]</th>               <td>    0.0459</td> <td>    0.210</td> <td>    0.219</td> <td> 0.827</td> <td>   -0.367</td> <td>    0.458</td>\n",
       "</tr>\n",
       "<tr>\n",
       "  <th>slope[T.upsloping]</th>          <td>   -0.2212</td> <td>    0.231</td> <td>   -0.956</td> <td> 0.340</td> <td>   -0.677</td> <td>    0.234</td>\n",
       "</tr>\n",
       "<tr>\n",
       "  <th>thal[T.normal]</th>              <td>   -0.1361</td> <td>    0.224</td> <td>   -0.608</td> <td> 0.544</td> <td>   -0.577</td> <td>    0.304</td>\n",
       "</tr>\n",
       "<tr>\n",
       "  <th>thal[T.reversable defect]</th>   <td>    0.4041</td> <td>    0.213</td> <td>    1.894</td> <td> 0.059</td> <td>   -0.016</td> <td>    0.824</td>\n",
       "</tr>\n",
       "<tr>\n",
       "  <th>age</th>                         <td>   -0.0078</td> <td>    0.006</td> <td>   -1.205</td> <td> 0.229</td> <td>   -0.020</td> <td>    0.005</td>\n",
       "</tr>\n",
       "<tr>\n",
       "  <th>trestbps</th>                    <td>    0.0045</td> <td>    0.003</td> <td>    1.531</td> <td> 0.127</td> <td>   -0.001</td> <td>    0.010</td>\n",
       "</tr>\n",
       "<tr>\n",
       "  <th>chol</th>                        <td> 9.769e-05</td> <td>    0.001</td> <td>    0.101</td> <td> 0.920</td> <td>   -0.002</td> <td>    0.002</td>\n",
       "</tr>\n",
       "<tr>\n",
       "  <th>thalch</th>                      <td>   -0.0048</td> <td>    0.003</td> <td>   -1.748</td> <td> 0.082</td> <td>   -0.010</td> <td>    0.001</td>\n",
       "</tr>\n",
       "<tr>\n",
       "  <th>oldpeak</th>                     <td>    0.1882</td> <td>    0.056</td> <td>    3.376</td> <td> 0.001</td> <td>    0.078</td> <td>    0.298</td>\n",
       "</tr>\n",
       "<tr>\n",
       "  <th>ca</th>                          <td>    0.4171</td> <td>    0.059</td> <td>    7.025</td> <td> 0.000</td> <td>    0.300</td> <td>    0.534</td>\n",
       "</tr>\n",
       "</table>\n",
       "<table class=\"simpletable\">\n",
       "<tr>\n",
       "  <th>Omnibus:</th>       <td>21.197</td> <th>  Durbin-Watson:     </th> <td>   1.913</td>\n",
       "</tr>\n",
       "<tr>\n",
       "  <th>Prob(Omnibus):</th> <td> 0.000</td> <th>  Jarque-Bera (JB):  </th> <td>  27.282</td>\n",
       "</tr>\n",
       "<tr>\n",
       "  <th>Skew:</th>          <td> 0.544</td> <th>  Prob(JB):          </th> <td>1.19e-06</td>\n",
       "</tr>\n",
       "<tr>\n",
       "  <th>Kurtosis:</th>      <td> 4.006</td> <th>  Cond. No.          </th> <td>5.22e+03</td>\n",
       "</tr>\n",
       "</table><br/><br/>Notes:<br/>[1] Standard Errors assume that the covariance matrix of the errors is correctly specified.<br/>[2] The condition number is large, 5.22e+03. This might indicate that there are<br/>strong multicollinearity or other numerical problems."
      ],
      "text/plain": [
       "<class 'statsmodels.iolib.summary.Summary'>\n",
       "\"\"\"\n",
       "                            OLS Regression Results                            \n",
       "==============================================================================\n",
       "Dep. Variable:                    num   R-squared:                       0.585\n",
       "Model:                            OLS   Adj. R-squared:                  0.559\n",
       "Method:                 Least Squares   F-statistic:                     21.89\n",
       "Date:                Thu, 09 Mar 2023   Prob (F-statistic):           2.98e-43\n",
       "Time:                        20:04:28   Log-Likelihood:                -353.44\n",
       "No. Observations:                 298   AIC:                             744.9\n",
       "Df Residuals:                     279   BIC:                             815.1\n",
       "Df Model:                          18                                         \n",
       "Covariance Type:            nonrobust                                         \n",
       "===============================================================================================\n",
       "                                  coef    std err          t      P>|t|      [0.025      0.975]\n",
       "-----------------------------------------------------------------------------------------------\n",
       "Intercept                       1.0953      0.751      1.458      0.146      -0.384       2.574\n",
       "sex[T.Male]                     0.2177      0.118      1.850      0.065      -0.014       0.449\n",
       "cp[T.atypical angina]          -0.2855      0.157     -1.817      0.070      -0.595       0.024\n",
       "cp[T.non-anginal]              -0.4641      0.130     -3.564      0.000      -0.720      -0.208\n",
       "cp[T.typical angina]           -0.6981      0.198     -3.524      0.000      -1.088      -0.308\n",
       "fbs[T.True]                     0.0149      0.143      0.104      0.917      -0.267       0.297\n",
       "restecg[T.normal]              -0.1933      0.101     -1.922      0.056      -0.391       0.005\n",
       "restecg[T.st-t abnormality]     0.5461      0.428      1.277      0.203      -0.296       1.388\n",
       "exang[T.True]                   0.1668      0.121      1.376      0.170      -0.072       0.405\n",
       "slope[T.flat]                   0.0459      0.210      0.219      0.827      -0.367       0.458\n",
       "slope[T.upsloping]             -0.2212      0.231     -0.956      0.340      -0.677       0.234\n",
       "thal[T.normal]                 -0.1361      0.224     -0.608      0.544      -0.577       0.304\n",
       "thal[T.reversable defect]       0.4041      0.213      1.894      0.059      -0.016       0.824\n",
       "age                            -0.0078      0.006     -1.205      0.229      -0.020       0.005\n",
       "trestbps                        0.0045      0.003      1.531      0.127      -0.001       0.010\n",
       "chol                         9.769e-05      0.001      0.101      0.920      -0.002       0.002\n",
       "thalch                         -0.0048      0.003     -1.748      0.082      -0.010       0.001\n",
       "oldpeak                         0.1882      0.056      3.376      0.001       0.078       0.298\n",
       "ca                              0.4171      0.059      7.025      0.000       0.300       0.534\n",
       "==============================================================================\n",
       "Omnibus:                       21.197   Durbin-Watson:                   1.913\n",
       "Prob(Omnibus):                  0.000   Jarque-Bera (JB):               27.282\n",
       "Skew:                           0.544   Prob(JB):                     1.19e-06\n",
       "Kurtosis:                       4.006   Cond. No.                     5.22e+03\n",
       "==============================================================================\n",
       "\n",
       "Notes:\n",
       "[1] Standard Errors assume that the covariance matrix of the errors is correctly specified.\n",
       "[2] The condition number is large, 5.22e+03. This might indicate that there are\n",
       "strong multicollinearity or other numerical problems.\n",
       "\"\"\""
      ]
     },
     "execution_count": 21,
     "metadata": {},
     "output_type": "execute_result"
    }
   ],
   "source": [
    "m = smf.ols(\"num ~ age + sex + cp + trestbps + chol + fbs + restecg + thalch + exang + oldpeak + slope + ca + thal\", data = us).fit()\n",
    "m.summary()"
   ]
  },
  {
   "cell_type": "code",
   "execution_count": 24,
   "metadata": {},
   "outputs": [],
   "source": [
    "from sklearn.neighbors import KNeighborsRegressor"
   ]
  },
  {
   "cell_type": "code",
   "execution_count": 25,
   "metadata": {},
   "outputs": [],
   "source": [
    "heart = heart.dropna()"
   ]
  },
  {
   "cell_type": "code",
   "execution_count": 64,
   "metadata": {},
   "outputs": [
    {
     "data": {
      "text/plain": [
       "(299, 21)"
      ]
     },
     "execution_count": 64,
     "metadata": {},
     "output_type": "execute_result"
    }
   ],
   "source": [
    "y = heart.num\n",
    "X0 = heart.drop(\"num\", axis=1)\n",
    "X0 = pd.get_dummies(X0, drop_first=True)\n",
    "X0.shape"
   ]
  },
  {
   "cell_type": "code",
   "execution_count": 47,
   "metadata": {},
   "outputs": [
    {
     "data": {
      "text/plain": [
       "1.2283493733353466"
      ]
     },
     "execution_count": 47,
     "metadata": {},
     "output_type": "execute_result"
    }
   ],
   "source": [
    "rmse = np.sqrt(np.mean((y - np.mean(y))**2))\n",
    "rmse"
   ]
  },
  {
   "cell_type": "code",
   "execution_count": 48,
   "metadata": {},
   "outputs": [
    {
     "data": {
      "text/plain": [
       "(1.0, 0.0)"
      ]
     },
     "execution_count": 48,
     "metadata": {},
     "output_type": "execute_result"
    }
   ],
   "source": [
    "m = KNeighborsRegressor(1)\n",
    "_ = m.fit(X0, y)\n",
    "yhat = m.predict(X0)\n",
    "rmse = np.sqrt(np.mean((y - yhat)**2))\n",
    "m.score(X0, y), rmse"
   ]
  },
  {
   "cell_type": "code",
   "execution_count": 65,
   "metadata": {},
   "outputs": [
    {
     "data": {
      "text/plain": [
       "(0.1941594015953504, 1.1026723391948388)"
      ]
     },
     "execution_count": 65,
     "metadata": {},
     "output_type": "execute_result"
    }
   ],
   "source": [
    "m = KNeighborsRegressor(10)\n",
    "_ = m.fit(X0, y)\n",
    "yhat = m.predict(X0)\n",
    "rmse = np.sqrt(np.mean((y - yhat)**2))\n",
    "m.score(X0, y), rmse"
   ]
  },
  {
   "cell_type": "code",
   "execution_count": 66,
   "metadata": {},
   "outputs": [],
   "source": [
    "from sklearn.model_selection import train_test_split\n",
    "Xt, Xv, yt, yv = train_test_split(X0, y)"
   ]
  },
  {
   "cell_type": "code",
   "execution_count": 67,
   "metadata": {},
   "outputs": [
    {
     "data": {
      "image/png": "[encoded data removed]",
      "text/plain": [
       "<Figure size 432x288 with 1 Axes>"
      ]
     },
     "metadata": {
      "needs_background": "light"
     },
     "output_type": "display_data"
    }
   ],
   "source": [
    "ks = range(1, 26)\n",
    "accurt = []\n",
    "accurv = []\n",
    "for k in ks:\n",
    "    m = KNeighborsRegressor(k)\n",
    "    _ = m.fit(Xt, yt)\n",
    "    acc = m.score(Xt, yt)\n",
    "    accurt.append(acc)\n",
    "    accv = m.score(Xv, yv)\n",
    "    accurv.append(accv)\n",
    "_ = plt.plot(ks, accurt)\n",
    "_ = plt.plot(ks, accurv)"
   ]
  },
  {
   "cell_type": "code",
   "execution_count": 68,
   "metadata": {},
   "outputs": [
    {
     "data": {
      "text/plain": [
       "20"
      ]
     },
     "execution_count": 68,
     "metadata": {},
     "output_type": "execute_result"
    }
   ],
   "source": [
    "maxi = max(accurv)\n",
    "index = accurv.index(maxi)\n",
    "index"
   ]
  },
  {
   "cell_type": "code",
   "execution_count": 53,
   "metadata": {},
   "outputs": [
    {
     "data": {
      "text/html": [
       "<table class=\"simpletable\">\n",
       "<caption>OLS Regression Results</caption>\n",
       "<tr>\n",
       "  <th>Dep. Variable:</th>           <td>num</td>       <th>  R-squared:         </th> <td>   0.556</td>\n",
       "</tr>\n",
       "<tr>\n",
       "  <th>Model:</th>                   <td>OLS</td>       <th>  Adj. R-squared:    </th> <td>   0.496</td>\n",
       "</tr>\n",
       "<tr>\n",
       "  <th>Method:</th>             <td>Least Squares</td>  <th>  F-statistic:       </th> <td>   9.235</td>\n",
       "</tr>\n",
       "<tr>\n",
       "  <th>Date:</th>             <td>Thu, 09 Mar 2023</td> <th>  Prob (F-statistic):</th> <td>1.06e-16</td>\n",
       "</tr>\n",
       "<tr>\n",
       "  <th>Time:</th>                 <td>20:17:52</td>     <th>  Log-Likelihood:    </th> <td> -202.55</td>\n",
       "</tr>\n",
       "<tr>\n",
       "  <th>No. Observations:</th>      <td>   160</td>      <th>  AIC:               </th> <td>   445.1</td>\n",
       "</tr>\n",
       "<tr>\n",
       "  <th>Df Residuals:</th>          <td>   140</td>      <th>  BIC:               </th> <td>   506.6</td>\n",
       "</tr>\n",
       "<tr>\n",
       "  <th>Df Model:</th>              <td>    19</td>      <th>                     </th>     <td> </td>   \n",
       "</tr>\n",
       "<tr>\n",
       "  <th>Covariance Type:</th>      <td>nonrobust</td>    <th>                     </th>     <td> </td>   \n",
       "</tr>\n",
       "</table>\n",
       "<table class=\"simpletable\">\n",
       "<tr>\n",
       "               <td></td>                  <th>coef</th>     <th>std err</th>      <th>t</th>      <th>P>|t|</th>  <th>[0.025</th>    <th>0.975]</th>  \n",
       "</tr>\n",
       "<tr>\n",
       "  <th>Intercept</th>                   <td>    1.1936</td> <td>    1.530</td> <td>    0.780</td> <td> 0.437</td> <td>   -1.831</td> <td>    4.218</td>\n",
       "</tr>\n",
       "<tr>\n",
       "  <th>sex[T.Male]</th>                 <td>    0.3514</td> <td>    0.186</td> <td>    1.888</td> <td> 0.061</td> <td>   -0.017</td> <td>    0.719</td>\n",
       "</tr>\n",
       "<tr>\n",
       "  <th>dataset[T.Hungary]</th>          <td>   4.2e-15</td> <td>  3.7e-15</td> <td>    1.135</td> <td> 0.258</td> <td>-3.12e-15</td> <td> 1.15e-14</td>\n",
       "</tr>\n",
       "<tr>\n",
       "  <th>dataset[T.Switzerland]</th>      <td> 1.293e-14</td> <td> 1.41e-14</td> <td>    0.915</td> <td> 0.362</td> <td> -1.5e-14</td> <td> 4.09e-14</td>\n",
       "</tr>\n",
       "<tr>\n",
       "  <th>dataset[T.VA Long Beach]</th>    <td>   -0.3261</td> <td>    0.958</td> <td>   -0.340</td> <td> 0.734</td> <td>   -2.220</td> <td>    1.568</td>\n",
       "</tr>\n",
       "<tr>\n",
       "  <th>cp[T.atypical angina]</th>       <td>   -0.2937</td> <td>    0.258</td> <td>   -1.138</td> <td> 0.257</td> <td>   -0.804</td> <td>    0.217</td>\n",
       "</tr>\n",
       "<tr>\n",
       "  <th>cp[T.non-anginal]</th>           <td>   -0.3180</td> <td>    0.216</td> <td>   -1.476</td> <td> 0.142</td> <td>   -0.744</td> <td>    0.108</td>\n",
       "</tr>\n",
       "<tr>\n",
       "  <th>cp[T.typical angina]</th>        <td>   -0.8758</td> <td>    0.294</td> <td>   -2.974</td> <td> 0.003</td> <td>   -1.458</td> <td>   -0.294</td>\n",
       "</tr>\n",
       "<tr>\n",
       "  <th>fbs[T.True]</th>                 <td>    0.1707</td> <td>    0.209</td> <td>    0.816</td> <td> 0.416</td> <td>   -0.243</td> <td>    0.584</td>\n",
       "</tr>\n",
       "<tr>\n",
       "  <th>restecg[T.normal]</th>           <td>   -0.3139</td> <td>    0.159</td> <td>   -1.970</td> <td> 0.051</td> <td>   -0.629</td> <td>    0.001</td>\n",
       "</tr>\n",
       "<tr>\n",
       "  <th>restecg[T.st-t abnormality]</th> <td>    0.5879</td> <td>    0.492</td> <td>    1.196</td> <td> 0.234</td> <td>   -0.384</td> <td>    1.560</td>\n",
       "</tr>\n",
       "<tr>\n",
       "  <th>exang[T.True]</th>               <td>    0.2275</td> <td>    0.177</td> <td>    1.283</td> <td> 0.202</td> <td>   -0.123</td> <td>    0.578</td>\n",
       "</tr>\n",
       "<tr>\n",
       "  <th>slope[T.flat]</th>               <td>   -0.3934</td> <td>    0.318</td> <td>   -1.236</td> <td> 0.218</td> <td>   -1.023</td> <td>    0.236</td>\n",
       "</tr>\n",
       "<tr>\n",
       "  <th>slope[T.upsloping]</th>          <td>   -0.5849</td> <td>    0.368</td> <td>   -1.588</td> <td> 0.115</td> <td>   -1.313</td> <td>    0.143</td>\n",
       "</tr>\n",
       "<tr>\n",
       "  <th>thal[T.normal]</th>              <td>    0.1751</td> <td>    0.307</td> <td>    0.571</td> <td> 0.569</td> <td>   -0.431</td> <td>    0.781</td>\n",
       "</tr>\n",
       "<tr>\n",
       "  <th>thal[T.reversable defect]</th>   <td>    0.5238</td> <td>    0.280</td> <td>    1.868</td> <td> 0.064</td> <td>   -0.030</td> <td>    1.078</td>\n",
       "</tr>\n",
       "<tr>\n",
       "  <th>age</th>                         <td>   -0.0150</td> <td>    0.018</td> <td>   -0.844</td> <td> 0.400</td> <td>   -0.050</td> <td>    0.020</td>\n",
       "</tr>\n",
       "<tr>\n",
       "  <th>trestbps</th>                    <td>    0.0072</td> <td>    0.004</td> <td>    1.700</td> <td> 0.091</td> <td>   -0.001</td> <td>    0.016</td>\n",
       "</tr>\n",
       "<tr>\n",
       "  <th>chol</th>                        <td> -5.64e-05</td> <td>    0.001</td> <td>   -0.041</td> <td> 0.967</td> <td>   -0.003</td> <td>    0.003</td>\n",
       "</tr>\n",
       "<tr>\n",
       "  <th>thalch</th>                      <td>   -0.0037</td> <td>    0.004</td> <td>   -0.929</td> <td> 0.354</td> <td>   -0.012</td> <td>    0.004</td>\n",
       "</tr>\n",
       "<tr>\n",
       "  <th>oldpeak</th>                     <td>    0.1115</td> <td>    0.083</td> <td>    1.341</td> <td> 0.182</td> <td>   -0.053</td> <td>    0.276</td>\n",
       "</tr>\n",
       "<tr>\n",
       "  <th>ca</th>                          <td>    0.5074</td> <td>    0.089</td> <td>    5.683</td> <td> 0.000</td> <td>    0.331</td> <td>    0.684</td>\n",
       "</tr>\n",
       "</table>\n",
       "<table class=\"simpletable\">\n",
       "<tr>\n",
       "  <th>Omnibus:</th>       <td> 4.196</td> <th>  Durbin-Watson:     </th> <td>   1.814</td>\n",
       "</tr>\n",
       "<tr>\n",
       "  <th>Prob(Omnibus):</th> <td> 0.123</td> <th>  Jarque-Bera (JB):  </th> <td>   3.797</td>\n",
       "</tr>\n",
       "<tr>\n",
       "  <th>Skew:</th>          <td> 0.367</td> <th>  Prob(JB):          </th> <td>   0.150</td>\n",
       "</tr>\n",
       "<tr>\n",
       "  <th>Kurtosis:</th>      <td> 3.177</td> <th>  Cond. No.          </th> <td>4.09e+18</td>\n",
       "</tr>\n",
       "</table><br/><br/>Notes:<br/>[1] Standard Errors assume that the covariance matrix of the errors is correctly specified.<br/>[2] The smallest eigenvalue is 1.05e-30. This might indicate that there are<br/>strong multicollinearity problems or that the design matrix is singular."
      ],
      "text/plain": [
       "<class 'statsmodels.iolib.summary.Summary'>\n",
       "\"\"\"\n",
       "                            OLS Regression Results                            \n",
       "==============================================================================\n",
       "Dep. Variable:                    num   R-squared:                       0.556\n",
       "Model:                            OLS   Adj. R-squared:                  0.496\n",
       "Method:                 Least Squares   F-statistic:                     9.235\n",
       "Date:                Thu, 09 Mar 2023   Prob (F-statistic):           1.06e-16\n",
       "Time:                        20:17:52   Log-Likelihood:                -202.55\n",
       "No. Observations:                 160   AIC:                             445.1\n",
       "Df Residuals:                     140   BIC:                             506.6\n",
       "Df Model:                          19                                         \n",
       "Covariance Type:            nonrobust                                         \n",
       "===============================================================================================\n",
       "                                  coef    std err          t      P>|t|      [0.025      0.975]\n",
       "-----------------------------------------------------------------------------------------------\n",
       "Intercept                       1.1936      1.530      0.780      0.437      -1.831       4.218\n",
       "sex[T.Male]                     0.3514      0.186      1.888      0.061      -0.017       0.719\n",
       "dataset[T.Hungary]             4.2e-15    3.7e-15      1.135      0.258   -3.12e-15    1.15e-14\n",
       "dataset[T.Switzerland]       1.293e-14   1.41e-14      0.915      0.362    -1.5e-14    4.09e-14\n",
       "dataset[T.VA Long Beach]       -0.3261      0.958     -0.340      0.734      -2.220       1.568\n",
       "cp[T.atypical angina]          -0.2937      0.258     -1.138      0.257      -0.804       0.217\n",
       "cp[T.non-anginal]              -0.3180      0.216     -1.476      0.142      -0.744       0.108\n",
       "cp[T.typical angina]           -0.8758      0.294     -2.974      0.003      -1.458      -0.294\n",
       "fbs[T.True]                     0.1707      0.209      0.816      0.416      -0.243       0.584\n",
       "restecg[T.normal]              -0.3139      0.159     -1.970      0.051      -0.629       0.001\n",
       "restecg[T.st-t abnormality]     0.5879      0.492      1.196      0.234      -0.384       1.560\n",
       "exang[T.True]                   0.2275      0.177      1.283      0.202      -0.123       0.578\n",
       "slope[T.flat]                  -0.3934      0.318     -1.236      0.218      -1.023       0.236\n",
       "slope[T.upsloping]             -0.5849      0.368     -1.588      0.115      -1.313       0.143\n",
       "thal[T.normal]                  0.1751      0.307      0.571      0.569      -0.431       0.781\n",
       "thal[T.reversable defect]       0.5238      0.280      1.868      0.064      -0.030       1.078\n",
       "age                            -0.0150      0.018     -0.844      0.400      -0.050       0.020\n",
       "trestbps                        0.0072      0.004      1.700      0.091      -0.001       0.016\n",
       "chol                         -5.64e-05      0.001     -0.041      0.967      -0.003       0.003\n",
       "thalch                         -0.0037      0.004     -0.929      0.354      -0.012       0.004\n",
       "oldpeak                         0.1115      0.083      1.341      0.182      -0.053       0.276\n",
       "ca                              0.5074      0.089      5.683      0.000       0.331       0.684\n",
       "==============================================================================\n",
       "Omnibus:                        4.196   Durbin-Watson:                   1.814\n",
       "Prob(Omnibus):                  0.123   Jarque-Bera (JB):                3.797\n",
       "Skew:                           0.367   Prob(JB):                        0.150\n",
       "Kurtosis:                       3.177   Cond. No.                     4.09e+18\n",
       "==============================================================================\n",
       "\n",
       "Notes:\n",
       "[1] Standard Errors assume that the covariance matrix of the errors is correctly specified.\n",
       "[2] The smallest eigenvalue is 1.05e-30. This might indicate that there are\n",
       "strong multicollinearity problems or that the design matrix is singular.\n",
       "\"\"\""
      ]
     },
     "execution_count": 53,
     "metadata": {},
     "output_type": "execute_result"
    }
   ],
   "source": [
    "m = smf.ols(\"num ~ age + sex + dataset + cp + trestbps + chol + fbs + restecg + thalch + exang + oldpeak + slope + ca + thal\", data = above55).fit()\n",
    "m.summary()"
   ]
  },
  {
   "cell_type": "code",
   "execution_count": 54,
   "metadata": {},
   "outputs": [],
   "source": [
    "import statsmodels.api as sm"
   ]
  },
  {
   "cell_type": "code",
   "execution_count": 55,
   "metadata": {},
   "outputs": [
    {
     "data": {
      "image/png": "[encoded data removed]",
      "text/plain": [
       "<Figure size 432x288 with 1 Axes>"
      ]
     },
     "metadata": {
      "needs_background": "light"
     },
     "output_type": "display_data"
    }
   ],
   "source": [
    "m = smf.ols(\"num ~ cp + oldpeak + ca\", data = heart).fit()\n",
    "m.summary()\n",
    "fig = sm.graphics.influence_plot(m, criterion='cooks')\n",
    "fig.tight_layout(pad=1.0)"
   ]
  },
  {
   "cell_type": "code",
   "execution_count": 61,
   "metadata": {},
   "outputs": [],
   "source": [
    "y = heart.num\n",
    "X0 = pd.get_dummies(heart[[\"ca\", \"cp\", \"oldpeak\"]],\n",
    "                   drop_first=True)\n",
    "Xt, Xv, yt, yv = train_test_split(X0, y)"
   ]
  },
  {
   "cell_type": "code",
   "execution_count": 62,
   "metadata": {},
   "outputs": [
    {
     "data": {
      "image/png": "[encoded data removed]",
      "text/plain": [
       "<Figure size 432x288 with 1 Axes>"
      ]
     },
     "metadata": {
      "needs_background": "light"
     },
     "output_type": "display_data"
    }
   ],
   "source": [
    "ks = range(1, 26)\n",
    "accurt = []\n",
    "accurv = []\n",
    "for k in ks:\n",
    "    m = KNeighborsRegressor(k)\n",
    "    _ = m.fit(Xt, yt)\n",
    "    acc = m.score(Xt, yt)\n",
    "    accurt.append(acc)\n",
    "    accv = m.score(Xv, yv)\n",
    "    accurv.append(accv)\n",
    "_ = plt.plot(ks, accurt)\n",
    "_ = plt.plot(ks, accurv)"
   ]
  },
  {
   "cell_type": "code",
   "execution_count": 63,
   "metadata": {},
   "outputs": [
    {
     "data": {
      "text/plain": [
       "23"
      ]
     },
     "execution_count": 63,
     "metadata": {},
     "output_type": "execute_result"
    }
   ],
   "source": [
    "maxi = max(accurv)\n",
    "index = accurv.index(maxi)\n",
    "index"
   ]
  },
  {
   "cell_type": "code",
   "execution_count": 71,
   "metadata": {},
   "outputs": [
    {
     "data": {
      "text/plain": [
       "Index(['id', 'age', 'trestbps', 'chol', 'thalch', 'oldpeak', 'ca', 'num',\n",
       "       'sex_Female', 'sex_Male', 'dataset_Hungary', 'dataset_Switzerland',\n",
       "       'cp_asymptomatic', 'cp_atypical angina', 'cp_non-anginal',\n",
       "       'cp_typical angina', 'fbs_False', 'fbs_True', 'restecg_lv hypertrophy',\n",
       "       'restecg_normal', 'restecg_st-t abnormality', 'exang_False',\n",
       "       'exang_True', 'slope_downsloping', 'slope_flat', 'slope_upsloping',\n",
       "       'thal_fixed defect', 'thal_normal', 'thal_reversable defect'],\n",
       "      dtype='object')"
      ]
     },
     "execution_count": 71,
     "metadata": {},
     "output_type": "execute_result"
    }
   ],
   "source": [
    "europe.columns"
   ]
  },
  {
   "cell_type": "code",
   "execution_count": 80,
   "metadata": {},
   "outputs": [
    {
     "ename": "ValueError",
     "evalue": "resids must contain at least 2 elements",
     "output_type": "error",
     "traceback": [
      "\u001b[1;31m---------------------------------------------------------------------------\u001b[0m",
      "\u001b[1;31mValueError\u001b[0m                                Traceback (most recent call last)",
      "\u001b[1;32mc:\\Users\\efgro\\Downloads\\CSE 163 Data Programming\\heart-disease\\coding.ipynb Cell 41\u001b[0m in \u001b[0;36m<cell line: 2>\u001b[1;34m()\u001b[0m\n\u001b[0;32m      <a href='vscode-notebook-cell:/c%3A/Users/efgro/Downloads/CSE%20163%20Data%20Programming/heart-disease/coding.ipynb#X56sZmlsZQ%3D%3D?line=0'>1</a>\u001b[0m m \u001b[39m=\u001b[39m smf\u001b[39m.\u001b[39mols(\u001b[39m\"\u001b[39m\u001b[39mnum ~ age + sex + dataset + cp + trestbps + chol + fbs + restecg + thalch + exang + oldpeak + slope + ca + thal\u001b[39m\u001b[39m\"\u001b[39m, data \u001b[39m=\u001b[39m europe)\u001b[39m.\u001b[39mfit()\n\u001b[1;32m----> <a href='vscode-notebook-cell:/c%3A/Users/efgro/Downloads/CSE%20163%20Data%20Programming/heart-disease/coding.ipynb#X56sZmlsZQ%3D%3D?line=1'>2</a>\u001b[0m m\u001b[39m.\u001b[39;49msummary()\n",
      "File \u001b[1;32mc:\\Users\\efgro\\anaconda3\\lib\\site-packages\\statsmodels\\regression\\linear_model.py:2689\u001b[0m, in \u001b[0;36mRegressionResults.summary\u001b[1;34m(self, yname, xname, title, alpha, slim)\u001b[0m\n\u001b[0;32m   2686\u001b[0m alpha \u001b[39m=\u001b[39m float_like(alpha, \u001b[39m\"\u001b[39m\u001b[39malpha\u001b[39m\u001b[39m\"\u001b[39m, optional\u001b[39m=\u001b[39m\u001b[39mFalse\u001b[39;00m)\n\u001b[0;32m   2687\u001b[0m slim \u001b[39m=\u001b[39m bool_like(slim, \u001b[39m\"\u001b[39m\u001b[39mslim\u001b[39m\u001b[39m\"\u001b[39m, optional\u001b[39m=\u001b[39m\u001b[39mFalse\u001b[39;00m, strict\u001b[39m=\u001b[39m\u001b[39mTrue\u001b[39;00m)\n\u001b[1;32m-> 2689\u001b[0m jb, jbpv, skew, kurtosis \u001b[39m=\u001b[39m jarque_bera(\u001b[39mself\u001b[39;49m\u001b[39m.\u001b[39;49mwresid)\n\u001b[0;32m   2690\u001b[0m omni, omnipv \u001b[39m=\u001b[39m omni_normtest(\u001b[39mself\u001b[39m\u001b[39m.\u001b[39mwresid)\n\u001b[0;32m   2692\u001b[0m eigvals \u001b[39m=\u001b[39m \u001b[39mself\u001b[39m\u001b[39m.\u001b[39meigenvals\n",
      "File \u001b[1;32mc:\\Users\\efgro\\anaconda3\\lib\\site-packages\\statsmodels\\stats\\stattools.py:123\u001b[0m, in \u001b[0;36mjarque_bera\u001b[1;34m(resids, axis)\u001b[0m\n\u001b[0;32m    121\u001b[0m resids \u001b[39m=\u001b[39m np\u001b[39m.\u001b[39matleast_1d(np\u001b[39m.\u001b[39masarray(resids, dtype\u001b[39m=\u001b[39m\u001b[39mfloat\u001b[39m))\n\u001b[0;32m    122\u001b[0m \u001b[39mif\u001b[39;00m resids\u001b[39m.\u001b[39msize \u001b[39m<\u001b[39m \u001b[39m2\u001b[39m:\n\u001b[1;32m--> 123\u001b[0m     \u001b[39mraise\u001b[39;00m \u001b[39mValueError\u001b[39;00m(\u001b[39m\"\u001b[39m\u001b[39mresids must contain at least 2 elements\u001b[39m\u001b[39m\"\u001b[39m)\n\u001b[0;32m    124\u001b[0m \u001b[39m# Calculate residual skewness and kurtosis\u001b[39;00m\n\u001b[0;32m    125\u001b[0m skew \u001b[39m=\u001b[39m stats\u001b[39m.\u001b[39mskew(resids, axis\u001b[39m=\u001b[39maxis)\n",
      "\u001b[1;31mValueError\u001b[0m: resids must contain at least 2 elements"
     ]
    }
   ],
   "source": [
    "m = smf.ols(\"num ~ age + sex + dataset + cp + trestbps + chol + fbs + restecg + thalch + exang + oldpeak + slope + ca + thal\", data = europe).fit()\n",
    "m.summary()"
   ]
  },
  {
   "cell_type": "code",
   "execution_count": 81,
   "metadata": {},
   "outputs": [],
   "source": [
    "from sklearn.linear_model import TheilSenRegressor\n",
    "m = TheilSenRegressor()"
   ]
  },
  {
   "cell_type": "code",
   "execution_count": 84,
   "metadata": {},
   "outputs": [
    {
     "data": {
      "text/plain": [
       "0.5767221959024456"
      ]
     },
     "execution_count": 84,
     "metadata": {},
     "output_type": "execute_result"
    }
   ],
   "source": [
    "reg = TheilSenRegressor(random_state=0).fit(X0, y)\n",
    "reg.score(X0, y)"
   ]
  },
  {
   "cell_type": "code",
   "execution_count": 88,
   "metadata": {},
   "outputs": [
    {
     "data": {
      "image/png": "[encoded data removed]",
      "text/plain": [
       "<Figure size 432x288 with 1 Axes>"
      ]
     },
     "metadata": {
      "needs_background": "light"
     },
     "output_type": "display_data"
    }
   ],
   "source": [
    "ks = range(0, 26)\n",
    "accurt = []\n",
    "accurv = []\n",
    "for k in ks:\n",
    "    Xt, Xv, yt, yv = train_test_split(X0, y)\n",
    "    m = TheilSenRegressor(random_state=k).fit(Xt, yt)\n",
    "    acc = m.score(Xt, yt)\n",
    "    accurt.append(acc)\n",
    "    accv = m.score(Xv, yv)\n",
    "    accurv.append(accv)\n",
    "_ = plt.plot(ks, accurt)\n",
    "_ = plt.plot(ks, accurv)"
   ]
  },
  {
   "cell_type": "code",
   "execution_count": 89,
   "metadata": {},
   "outputs": [
    {
     "data": {
      "text/plain": [
       "15"
      ]
     },
     "execution_count": 89,
     "metadata": {},
     "output_type": "execute_result"
    }
   ],
   "source": [
    "maxi = max(accurv)\n",
    "index = accurv.index(maxi)\n",
    "index"
   ]
  },
  {
   "cell_type": "code",
   "execution_count": 90,
   "metadata": {},
   "outputs": [
    {
     "data": {
      "image/png": "[encoded data removed]",
      "text/plain": [
       "<Figure size 432x288 with 1 Axes>"
      ]
     },
     "metadata": {
      "needs_background": "light"
     },
     "output_type": "display_data"
    }
   ],
   "source": [
    "ks = range(0, 26)\n",
    "accurt = []\n",
    "accurv = []\n",
    "for k in ks:\n",
    "    Xt, Xv, yt, yv = train_test_split(X0, y)\n",
    "    m = TheilSenRegressor(random_state=k).fit(Xt, yt)\n",
    "    acc = m.score(Xt, yt)\n",
    "    accurt.append(acc)\n",
    "    accv = m.score(Xv, yv)\n",
    "    accurv.append(accv)\n",
    "_ = plt.plot(ks, accurt)\n",
    "_ = plt.plot(ks, accurv)"
   ]
  },
  {
   "cell_type": "code",
   "execution_count": 91,
   "metadata": {},
   "outputs": [
    {
     "data": {
      "text/plain": [
       "10"
      ]
     },
     "execution_count": 91,
     "metadata": {},
     "output_type": "execute_result"
    }
   ],
   "source": [
    "maxi = max(accurv)\n",
    "index = accurv.index(maxi)\n",
    "index"
   ]
  },
  {
   "cell_type": "code",
   "execution_count": 92,
   "metadata": {},
   "outputs": [
    {
     "data": {
      "image/png": "[encoded data removed]",
      "text/plain": [
       "<Figure size 432x288 with 1 Axes>"
      ]
     },
     "metadata": {
      "needs_background": "light"
     },
     "output_type": "display_data"
    }
   ],
   "source": [
    "ks = range(0, 101)\n",
    "accurt = []\n",
    "accurv = []\n",
    "for k in ks:\n",
    "    Xt, Xv, yt, yv = train_test_split(X0, y)\n",
    "    m = TheilSenRegressor(random_state=k).fit(Xt, yt)\n",
    "    acc = m.score(Xt, yt)\n",
    "    accurt.append(acc)\n",
    "    accv = m.score(Xv, yv)\n",
    "    accurv.append(accv)\n",
    "_ = plt.plot(ks, accurt)\n",
    "_ = plt.plot(ks, accurv)"
   ]
  },
  {
   "cell_type": "code",
   "execution_count": 93,
   "metadata": {},
   "outputs": [
    {
     "data": {
      "text/plain": [
       "65"
      ]
     },
     "execution_count": 93,
     "metadata": {},
     "output_type": "execute_result"
    }
   ],
   "source": [
    "maxi = max(accurv)\n",
    "index = accurv.index(maxi)\n",
    "index"
   ]
  }
 ],
 "metadata": {
  "kernelspec": {
   "display_name": "base",
   "language": "python",
   "name": "python3"
  },
  "language_info": {
   "codemirror_mode": {
    "name": "ipython",
    "version": 3
   },
   "file_extension": ".py",
   "mimetype": "text/x-python",
   "name": "python",
   "nbconvert_exporter": "python",
   "pygments_lexer": "ipython3",
   "version": "3.9.12"
  },
  "orig_nbformat": 4,
  "vscode": {
   "interpreter": {
    "hash": "0050e0336f3d8eb0b3c0d17c98e07893003de4b191581b19c427730e325d2231"
   }
  }
 },
 "nbformat": 4,
 "nbformat_minor": 2
}
